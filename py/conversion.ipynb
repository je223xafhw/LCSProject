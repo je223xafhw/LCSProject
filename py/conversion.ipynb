{
 "cells": [
  {
   "cell_type": "code",
   "execution_count": null,
   "metadata": {},
   "outputs": [],
   "source": [
    "import matplotlib.pylab as plt\n",
    "import pandas as pd\n",
    "import seaborn as sns\n",
    "from sklearn.neighbors import NearestNeighbors\n",
    "from sklearn.cluster import DBSCAN\n",
    "import numpy as np\n",
    "import hdbscan\n",
    "import socket\n",
    "import struct"
   ]
  },
  {
   "cell_type": "code",
   "execution_count": null,
   "metadata": {},
   "outputs": [],
   "source": [
    "DS1 = \"./csv/convert/capture1_1.csv\"\n",
    "DSMERGED = \"./csv/convert/capture_merge_1.csv\"\n",
    "LOG = \"./csv/convert/conn.log.labeled\"\n",
    "# turn this to true, to skip all unnecessary fields\n",
    "FAST = True"
   ]
  },
  {
   "cell_type": "markdown",
   "metadata": {},
   "source": [
    "# Datensatzauswahl"
   ]
  },
  {
   "cell_type": "markdown",
   "metadata": {},
   "source": [
    "Welche Datensätze haben wir in betracht gezogen und warum haben wir uns für diesen entschieden?"
   ]
  },
  {
   "cell_type": "markdown",
   "metadata": {},
   "source": [
    "# Vorstellung der .log files und deren Struktur \n",
    "### Beispielhaft für Datensatz 1"
   ]
  },
  {
   "cell_type": "code",
   "execution_count": null,
   "metadata": {},
   "outputs": [],
   "source": [
    "fields=[\"ts\",\"uid\",\"orig_h\",\"orig_p\",\"resp_h\",\"resp_p\",\"proto\",\"service\",\"duration\",\"orig_bytes\",\"resp_bytes\",\"conn_state\",\"local_orig\",\"local_resp\",\"missed_bytes\",\"history\",\"orig_pkts\",\"orig_ip_bytes\",\"resp_pkts\",\"resp_ip_bytes\",\"tunnel_parents\",\"label\",\"detailed-label\"]\n",
    "\n",
    "df_raw_log = pd.read_csv(LOG,skipfooter=1, engine=\"python\", names=fields, sep=\"\\x09|\\x20\\x20\\x20\", skiprows=8)\n",
    "df_raw_log = df_raw_log.replace('-', np.nan)\n"
   ]
  },
  {
   "cell_type": "code",
   "execution_count": null,
   "metadata": {},
   "outputs": [],
   "source": [
    "if not FAST:\n",
    "    pd.set_option('display.max_columns', None)\n",
    "    df_raw_log.head()"
   ]
  },
  {
   "cell_type": "markdown",
   "metadata": {},
   "source": [
    "### Spaltenübersicht\n",
    "\n",
    "<div style=\"tposition>\n",
    "    \n",
    "| Spalte Original   | Beschreibung                      | behalten  | \n",
    "|-------------------|-----------------------------------|-----------|\n",
    "| ts\t\t        | Zeitstempel \t\t\t            | X         |\n",
    "| uid\t\t        | UUID \t\t\t                    | X         |\n",
    "| orig_h\t\t    | IP sender adresse  \t\t\t    | X         |\n",
    "| orig_p\t\t    | Sender port \t\t\t            | X         |\n",
    "| resp_h\t\t    | IP Empfänger addresse \t\t\t| X         |\n",
    "| resp_p\t\t    | Empfänger port \t\t\t        | X         |\n",
    "| proto\t\t        | Protokoll \t\t\t            | X         |\n",
    "| service\t\t    | Dienst \t\t\t                | X         |\n",
    "| duration\t\t    | Dauer \t\t\t                | X         |\n",
    "| orig_bytes\t\t| Ursprüngliche Bytes \t\t        | X         |\n",
    "| resp_bytes\t\t| Antwortbytes \t\t\t            | X         |\n",
    "| conn_state\t\t| Verbindungszustand \t\t        | X         |\n",
    "| local_orig\t\t| Lokal (Ursprung) \t\t            | X         |\n",
    "| local_resp\t\t| Lokal (Antwort) \t\t            | X         |\n",
    "| missed_bytes\t    | Verpasste Bytes \t\t            | X         |\n",
    "| history\t\t    | Historie \t\t\t                | X         |\n",
    "| orig_pkts\t\t    | Ursprüngliche Pakete \t\t        | X         |\n",
    "| orig_ip_bytes\t    | Ursprüngliche IP-Bytes \t        | X         |\n",
    "| resp_pkts\t\t    | Antwortpakete \t\t\t        | X         |\n",
    "| resp_ip_bytes\t    | Antwort IP-Bytes \t\t            | X         |\n",
    "| tunnel_parents\t| Tunnel-Eltern \t\t\t        | X         |\n",
    "| label\t\t        | Gut oder Schlecht \t\t        | X         |\n",
    "| detailed-label\t| Angriffsmethode \t\t            | X         |\n",
    "</div>"
   ]
  },
  {
   "cell_type": "code",
   "execution_count": null,
   "metadata": {},
   "outputs": [],
   "source": [
    "if not FAST:\n",
    "    df_raw_log.columns"
   ]
  },
  {
   "cell_type": "code",
   "execution_count": null,
   "metadata": {},
   "outputs": [],
   "source": [
    "if not FAST:\n",
    "    df_raw_log.isna().sum()"
   ]
  },
  {
   "cell_type": "markdown",
   "metadata": {},
   "source": [
    "| Spalte Original   | Beschreibung                      | behalten  | \n",
    "|-------------------|-----------------------------------|-----------|\n",
    "| ts\t\t        | Zeitstempel \t\t\t            | X         |\n",
    "| uid\t\t        | UUID \t\t\t                    | X         |\n",
    "| orig_h\t\t    | IP sender adresse  \t\t\t    | X         |\n",
    "| orig_p\t\t    | Sender port \t\t\t            | X         |\n",
    "| resp_h\t\t    | IP Empfänger addresse \t\t\t| X         |\n",
    "| resp_p\t\t    | Empfänger port \t\t\t        | X         |\n",
    "| proto\t\t        | Protokoll \t\t\t            | X         |\n",
    "| service\t\t    | Dienst \t\t\t                | X         |\n",
    "| duration\t\t    | Dauer \t\t\t                | X         |\n",
    "| orig_bytes\t\t| Ursprüngliche Bytes \t\t        | X         |\n",
    "| resp_bytes\t\t| Antwortbytes \t\t\t            | X         |\n",
    "| conn_state\t\t| Verbindungszustand \t\t        | X         |\n",
    "| local_orig\t\t| Lokal (Ursprung) \t\t            | X         |\n",
    "| local_resp\t\t| Lokal (Antwort) \t\t            | X         |\n",
    "| missed_bytes\t    | Verpasste Bytes \t\t            | X         |\n",
    "| history\t\t    | Historie \t\t\t                | X         |\n",
    "| orig_pkts\t\t    | Ursprüngliche Pakete \t\t        | X         |\n",
    "| orig_ip_bytes\t    | Ursprüngliche IP-Bytes \t        | X         |\n",
    "| resp_pkts\t\t    | Antwortpakete \t\t\t        | X         |\n",
    "| resp_ip_bytes\t    | Antwort IP-Bytes \t\t            | X         |\n",
    "| tunnel_parents\t| Tunnel-Eltern \t\t\t        | X         |\n",
    "| label\t\t        | Gut oder Schlecht \t\t        | X         |\n",
    "| detailed-label\t| Angriffsmethode \t\t            | X         |\n"
   ]
  },
  {
   "cell_type": "markdown",
   "metadata": {},
   "source": [
    "## Encoding der Spalten"
   ]
  },
  {
   "cell_type": "code",
   "execution_count": null,
   "metadata": {},
   "outputs": [],
   "source": [
    "protos = list(df_raw_log.proto.unique().flatten())\n",
    "conn_states = list(df_raw_log.conn_state.unique().flatten())\n",
    "histories = list(df_raw_log.history.unique().flatten())\n",
    "def convert_ipv4(addr):\n",
    "    \"\"\"Konvertieren einer IPv4 Adresse zu einem INT\"\"\"\n",
    "    return struct.unpack(\"!I\", socket.inet_aton(addr))[0]\n",
    "\n",
    "def con_proto(proto):\n",
    "    \"\"\"Konvertieren der Ports ICMP, TCP und UDP zu einem INT\"\"\"\n",
    "    return protos.index(proto)\n",
    "\n",
    "def convert_connstate(state):\n",
    "    return conn_states.index(state)\n",
    "\n",
    "def convert_histories(history):\n",
    "    return histories.index(history)\n",
    "        "
   ]
  },
  {
   "cell_type": "markdown",
   "metadata": {},
   "source": [
    "### Konvertieren des DataFrames in ein normiertes Format\n",
    "1. Konvertieren der IPv4 Spalten\n",
    "2. Konvertieren der Protokoll Spalte\n",
    "3. Löschen der ts und uid spalten"
   ]
  },
  {
   "cell_type": "code",
   "execution_count": null,
   "metadata": {},
   "outputs": [],
   "source": [
    "def norm_df(df):\n",
    "    \"\"\"\n",
    "    Normierung des DataFrames, dh löschen der Spalten, welche nicht gebraucht werden und konvertieren der object Spalten zu INT\n",
    "    \"\"\"\n",
    "    df = df.replace('-', np.nan)\n",
    "    df['orig_h'] = df['orig_h'].apply(convert_ipv4)\n",
    "    df['resp_h'] = df['resp_h'].apply(convert_ipv4)\n",
    "    df['proto'] = df['proto'].apply(con_proto)\n",
    "    df['conn_state'] = df['conn_state'].apply(convert_connstate)\n",
    "    df['history'] = df['history'].apply(convert_histories)\n",
    "    df = df.drop(['uid', 'ts', 'tunnel_parents', 'detailed-label', 'service', 'duration', 'orig_bytes', 'resp_bytes', 'local_orig', 'local_resp'], axis=1)\n",
    "    df['label'] = (df['label'] == \"Malicious\").astype(int)\n",
    "    df = df.dropna()\n",
    "    df = df.reset_index(drop=True)\n",
    "    return df"
   ]
  },
  {
   "cell_type": "code",
   "execution_count": null,
   "metadata": {},
   "outputs": [],
   "source": [
    "df_conversion_1 = norm_df(df_raw_log)"
   ]
  },
  {
   "cell_type": "code",
   "execution_count": null,
   "metadata": {},
   "outputs": [],
   "source": [
    "if not FAST:\n",
    "    df_conversion_1.dtypes"
   ]
  },
  {
   "cell_type": "code",
   "execution_count": null,
   "metadata": {},
   "outputs": [],
   "source": [
    "if not FAST:\n",
    "    df_conversion_1.head(20)"
   ]
  },
  {
   "cell_type": "code",
   "execution_count": null,
   "metadata": {},
   "outputs": [],
   "source": [
    "if not FAST:\n",
    "    df_conversion_1.label.value_counts()"
   ]
  },
  {
   "cell_type": "code",
   "execution_count": null,
   "metadata": {},
   "outputs": [],
   "source": [
    "def viz(df):\n",
    "    for c, label in enumerate(df.columns):\n",
    "        counts, edges, bars = plt.hist(df[df[\"label\"] == 1][label], color='blue', label='Malicious', alpha=0.7, density=True, stacked=True)\n",
    "        counts2, edges2, bars2 = plt.hist(df[df[\"label\"] ==  0][label], color='red', label='Benign', alpha=0.7, density=True, stacked=True)\n",
    "        plt.title(label)\n",
    "        plt.ylabel(\"probability density\")\n",
    "        plt.xlabel(label)\n",
    "        plt.legend()\n",
    "        plt.show()"
   ]
  },
  {
   "cell_type": "code",
   "execution_count": null,
   "metadata": {},
   "outputs": [],
   "source": [
    "if not FAST:\n",
    "    viz(df_conversion_1)"
   ]
  },
  {
   "cell_type": "markdown",
   "metadata": {},
   "source": [
    "## Scatter plot der Daten"
   ]
  },
  {
   "cell_type": "code",
   "execution_count": null,
   "metadata": {},
   "outputs": [],
   "source": [
    "def make_bytes_plot(df) -> plt.figure:\n",
    "    fig, ((ax1, ax2), (ax3, ax4)) = plt.subplots(nrows=2, ncols=2, figsize=(12,12))\n",
    "    sns.scatterplot(data=df, x='orig_p', y='resp_p', hue='label', ax=ax1)\n",
    "    sns.scatterplot(data=df, x='orig_p', y='resp_p', hue='proto', ax=ax3)\n",
    "    sns.scatterplot(data=df, x='orig_ip_bytes', y='resp_ip_bytes', hue='label', ax=ax2)\n",
    "    sns.scatterplot(data=df, x='orig_ip_bytes', y='resp_ip_bytes', hue='proto', ax=ax4)\n",
    "    plt.show()\n",
    "    return fig"
   ]
  },
  {
   "cell_type": "code",
   "execution_count": null,
   "metadata": {},
   "outputs": [],
   "source": [
    "if not FAST:\n",
    "    make_bytes_plot(df_conversion_1)"
   ]
  }
 ],
 "metadata": {
  "language_info": {
   "name": "python"
  },
  "orig_nbformat": 4
 },
 "nbformat": 4,
 "nbformat_minor": 2
}
