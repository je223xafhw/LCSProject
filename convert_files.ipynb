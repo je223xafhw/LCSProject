{
 "cells": [
  {
   "attachments": {},
   "cell_type": "markdown",
   "metadata": {},
   "source": [
    "## lines of the different files\n",
    "```\n",
    "36:   13645107  3.07 GB\n",
    "52:   19781378  1.7GB\n",
    "1:    1008757   148MB\n",
    "```\n",
    "\n",
    "## how to get this\n",
    "```bash\n",
    "cd /Users/jonny/Nextcloud/Documents/School/Semester9/LCS/Project/\n",
    "# head -n 10000 capture52_1.csv > capture52_1_1000.csv\n",
    "\n",
    "export fileid=36; head -n 1000000  /Users/jonny/Downloads/opt/Malware-Project/BigDataset/IoTScenarios/CTU-IoT-Malware-Capture-${fileid}-1/bro/conn.log.labeled > /Users/jonny/Downloads/opt/Malware-Project/BigDataset/IoTScenarios/CTU-IoT-Malware-Capture-${fileid}-1/bro/conn.short.log.labeled\n",
    "```\n"
   ]
  },
  {
   "cell_type": "code",
   "execution_count": 17,
   "metadata": {},
   "outputs": [],
   "source": [
    "import pandas as pd\n",
    "import os.path\n",
    "FILEID = 1\n",
    "FILEIDS = [1, 3, 36, 39, 49, 52]\n",
    "# LOGFILE = f\"~/Downloads/conn.short.log.labeled\"\n",
    "LOGFILE = f\"~/Downloads/opt/Malware-Project/BigDataset/IoTScenarios/CTU-IoT-Malware-Capture-{FILEID}-1/bro/conn.short.log.labeled\"\n",
    "NUMERIC_COLUMNS = ['ts', 'orig_p', 'resp_p', \"orig_bytes\", \"resp_bytes\", \"missed_bytes\", \"orig_pkts\", 'orig_ip_bytes', 'resp_pkts', 'resp_ip_bytes', 'duration'] # integer columns"
   ]
  },
  {
   "cell_type": "code",
   "execution_count": 18,
   "metadata": {},
   "outputs": [],
   "source": [
    "def convert_to_csv(FILEID):\n",
    "    if not os.path.isfile(f'csv/capture{FILEID}_1.csv'):\n",
    "        LOGFILE = f\"~/Downloads/opt/Malware-Project/BigDataset/IoTScenarios/CTU-IoT-Malware-Capture-{FILEID}-1/bro/conn.short.log.labeled\"\n",
    "        fieldsIN = ['ts', 'uid', 'orig_h', 'orig_p', 'resp_h', 'resp_p', 'proto', 'service', 'duration', 'orig_bytes', 'resp_bytes', 'conn_state',\n",
    "                'local_orig', 'local_resp', 'missed_bytes', 'history', 'orig_pkts', 'orig_ip_bytes', 'resp_pkts', 'resp_ip_bytes', 'tunnel_parents', 'label', 'detailed_label']\n",
    "        df = pd.read_csv(LOGFILE, sep=\"\\x09|\\x20\\x20\\x20\", skiprows=10, skipfooter=2,\n",
    "                        names=fieldsIN, header=None, engine='python')\n",
    "        df = df.drop(['tunnel_parents'], axis=1)\n",
    "        df.to_csv(f'csv/capture{FILEID}_1.csv')\n",
    "        print(df.shape)\n",
    "        for column in NUMERIC_COLUMNS:\n",
    "            df[column] = pd.to_numeric(df[column], errors='coerce')\n",
    "        return df\n",
    "for fileid in FILEIDS:\n",
    "    df = convert_to_csv(fileid)"
   ]
  }
 ],
 "metadata": {
  "kernelspec": {
   "display_name": ".venv",
   "language": "python",
   "name": "python3"
  },
  "language_info": {
   "codemirror_mode": {
    "name": "ipython",
    "version": 3
   },
   "file_extension": ".py",
   "mimetype": "text/x-python",
   "name": "python",
   "nbconvert_exporter": "python",
   "pygments_lexer": "ipython3",
   "version": "3.9.2"
  },
  "orig_nbformat": 4
 },
 "nbformat": 4,
 "nbformat_minor": 2
}
