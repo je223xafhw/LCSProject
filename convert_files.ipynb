{
 "cells": [
  {
   "cell_type": "code",
   "execution_count": 1,
   "metadata": {},
   "outputs": [],
   "source": [
    "\n",
    "import pandas as pd\n",
    "import socket\n",
    "import struct\n",
    "import numpy as np\n"
   ]
  },
  {
   "cell_type": "code",
   "execution_count": 2,
   "metadata": {},
   "outputs": [],
   "source": [
    "def convert_ipv4(addr):\n",
    "    return struct.unpack(\"!I\", socket.inet_aton(addr))[0]\n",
    "\n",
    "def con_proto(proto):\n",
    "    protos = ['icmp', 'tcp', 'udp']\n",
    "    return protos.index(proto)"
   ]
  },
  {
   "cell_type": "code",
   "execution_count": 3,
   "metadata": {},
   "outputs": [],
   "source": [
    "def norm_df(df, split_into=1):\n",
    "    \"\"\"\n",
    "    param: split_into [this is a percentage, how much of the dataset should be used]\n",
    "    \"\"\"\n",
    "    assert 0 < split_into <= 1, \"Number must be percentage\"\n",
    "    df = df.replace('-', np.nan)\n",
    "    df['orig_h'] = df['orig_h'].apply(convert_ipv4)\n",
    "    df['resp_h'] = df['resp_h'].apply(convert_ipv4)\n",
    "    # df = pd.get_dummies(df, columns=['proto'], dtype=int)\n",
    "    df['proto'] = df['proto'].apply(con_proto)\n",
    "    # print(dummies.head())\n",
    "    df = df.drop(['service', 'duration', 'missed_bytes', 'history', 'uid', 'conn_state', 'local_orig', 'local_resp', 'orig_ip_bytes', 'resp_ip_bytes', 'orig_pkts', 'resp_pkts', 'detailed_label', 'ts'], axis=1)\n",
    "    df['label'] = (df['label'] == \"Malicious\").astype(int)\n",
    "    # df['resp_bytes'] = df['resp_bytes'].apply(to_int)\n",
    "    df = df.dropna()\n",
    "    df['resp_bytes'] = df['resp_bytes'].astype(int)\n",
    "    df['orig_bytes'] = df['orig_bytes'].astype(int)\n",
    "    if (split_into): df = np.array_split(df.sample(frac=1), 1/split_into)[0]\n",
    "    df = df.reset_index(drop=True)\n",
    "    return df"
   ]
  },
  {
   "cell_type": "code",
   "execution_count": 4,
   "metadata": {},
   "outputs": [],
   "source": [
    "def convert_to_csv(FILEID):\n",
    "    NUMERIC_COLUMNS = ['ts', 'orig_p', 'resp_p', \"orig_bytes\", \"resp_bytes\", \"missed_bytes\", \"orig_pkts\", 'orig_ip_bytes', 'resp_pkts', 'resp_ip_bytes', 'duration'] # integer columns\n",
    "    LOGFILE = f\"~/Downloads/opt/Malware-Project/BigDataset/IoTScenarios/CTU-IoT-Malware-Capture-{FILEID}-1/bro/conn.log.labeled\"\n",
    "    fieldsIN = ['ts', 'uid', 'orig_h', 'orig_p', 'resp_h', 'resp_p', 'proto', 'service', 'duration', 'orig_bytes', 'resp_bytes', 'conn_state',\n",
    "            'local_orig', 'local_resp', 'missed_bytes', 'history', 'orig_pkts', 'orig_ip_bytes', 'resp_pkts', 'resp_ip_bytes', 'tunnel_parents', 'label', 'detailed_label']\n",
    "    df = pd.read_csv(LOGFILE, sep=\"\\x09|\\x20\\x20\\x20\", skiprows=10, skipfooter=2,\n",
    "                    names=fieldsIN, header=None, engine='python')\n",
    "                            \n",
    "    df = df.drop(['tunnel_parents'], axis=1)\n",
    "    df = norm_df(df)\n",
    "    df.to_csv(f'csv/capture{FILEID}_1.csv')\n",
    "    return df"
   ]
  },
  {
   "cell_type": "code",
   "execution_count": 5,
   "metadata": {},
   "outputs": [
    {
     "ename": "",
     "evalue": "",
     "output_type": "error",
     "traceback": [
      "\u001b[1;31mCannot execute code, session has been disposed. Please try restarting the Kernel."
     ]
    },
    {
     "ename": "",
     "evalue": "",
     "output_type": "error",
     "traceback": [
      "\u001b[1;31mThe Kernel crashed while executing code in the the current cell or a previous cell. Please review the code in the cell(s) to identify a possible cause of the failure. Click <a href='https://aka.ms/vscodeJupyterKernelCrash'>here</a> for more info. View Jupyter <a href='command:jupyter.viewOutput'>log</a> for further details."
     ]
    }
   ],
   "source": [
    "convert_to_csv(36)"
   ]
  }
 ],
 "metadata": {
  "kernelspec": {
   "display_name": ".venv",
   "language": "python",
   "name": "python3"
  },
  "language_info": {
   "codemirror_mode": {
    "name": "ipython",
    "version": 3
   },
   "file_extension": ".py",
   "mimetype": "text/x-python",
   "name": "python",
   "nbconvert_exporter": "python",
   "pygments_lexer": "ipython3",
   "version": "3.9.2"
  },
  "orig_nbformat": 4
 },
 "nbformat": 4,
 "nbformat_minor": 2
}
