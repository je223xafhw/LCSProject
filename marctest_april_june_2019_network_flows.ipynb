{
  "metadata": {
    "kernelspec": {
      "language": "python",
      "display_name": "Python 3",
      "name": "python3"
    },
    "language_info": {
      "name": "python",
      "version": "3.10.10",
      "mimetype": "text/x-python",
      "codemirror_mode": {
        "name": "ipython",
        "version": 3
      },
      "pygments_lexer": "ipython3",
      "nbconvert_exporter": "python",
      "file_extension": ".py"
    },
    "colab": {
      "provenance": [],
      "toc_visible": true
    }
  },
  "nbformat_minor": 0,
  "nbformat": 4,
  "cells": [
    {
      "cell_type": "code",
      "source": [
        "from mpl_toolkits.mplot3d import Axes3D\n",
        "from sklearn.preprocessing import StandardScaler\n",
        "import matplotlib.pyplot as plt # plotting\n",
        "import numpy as np # linear algebra\n",
        "import os # accessing directory structure\n",
        "import pandas as pd # data processing, CSV file I/O (e.g. pd.read_csv)\n",
        "import matplotlib.pylab as plt\n",
        "import seaborn as sns\n",
        "import ipaddress"
      ],
      "metadata": {
        "_uuid": "8f2839f25d086af736a60e9eeb907d3b93b6e0e5",
        "_cell_guid": "b1076dfc-b9ad-4769-8c92-a6c4dae69d19",
        "execution": {
          "iopub.status.busy": "2023-06-06T13:37:31.307487Z",
          "iopub.execute_input": "2023-06-06T13:37:31.307938Z",
          "iopub.status.idle": "2023-06-06T13:37:31.314312Z",
          "shell.execute_reply.started": "2023-06-06T13:37:31.307894Z",
          "shell.execute_reply": "2023-06-06T13:37:31.312757Z"
        },
        "trusted": true,
        "id": "1P1tpNmBU0kH"
      },
      "execution_count": null,
      "outputs": []
    },
    {
      "cell_type": "code",
      "source": [
        "def make_bytes_plot(df) -> plt.figure:\n",
        "    fig, ((ax1, ax2), (ax3, ax4)) = plt.subplots(nrows=2, ncols=2, figsize=(12,12))\n",
        "    range_for_ip_bytes = range(0, 100000, 10000)\n",
        "    range_for_bytes = range(0, 100, 100)\n",
        "    ax1.set_xticks(range_for_ip_bytes)\n",
        "    ax1.set_yticks(range_for_ip_bytes)\n",
        "    ax3.set_xticks(range_for_ip_bytes)\n",
        "    ax3.set_yticks(range_for_ip_bytes)\n",
        "    ax2.set_yticks(range_for_bytes)\n",
        "    ax2.set_xticks(range(0, 100, 10))\n",
        "    ax4.set_yticks(range_for_bytes)\n",
        "    ax4.set_xticks(range(0, 100, 10))\n",
        "    sns.scatterplot(data=df, x='orig_ip_bytes', y='resp_ip_bytes', hue='label', ax=ax1)\n",
        "    sns.scatterplot(data=df, x='orig_ip_bytes', y='resp_ip_bytes', hue='proto', ax=ax3)\n",
        "    sns.scatterplot(data=df, x='orig_bytes', y='resp_bytes', hue='label', ax=ax2)\n",
        "    sns.scatterplot(data=df, x='orig_bytes', y='resp_bytes', hue='proto', ax=ax4)\n",
        "    return fig"
      ],
      "metadata": {
        "id": "SgS_PhecYC_m"
      },
      "execution_count": null,
      "outputs": []
    },
    {
      "cell_type": "code",
      "source": [
        "def make_port_plot(df):\n",
        "    fig, (ax1, ax2) = plt.subplots(ncols=2, figsize=(12,6))\n",
        "    sns.scatterplot(data=df, x='orig_p', y='resp_p', hue='label', ax=ax1)\n",
        "    sns.scatterplot(data=df, x='orig_p', y='resp_p', hue='proto', ax=ax2)\n",
        "    return fig"
      ],
      "metadata": {
        "id": "J1g6b6WLYD1R"
      },
      "execution_count": null,
      "outputs": []
    },
    {
      "cell_type": "code",
      "source": [
        "nRowsRead = None # specify 'None' if want to read whole file\n",
        "\n",
        "fields=[\"ts\",\"uid\",\"orig_h\",\"orig_p\",\"resp_h\",\"resp_p\",\"proto\",\"service\",\"duration\",\"orig_bytes\",\"resp_bytes\",\"conn_state\",\"local_orig\",\"local_resp\",\"missed_bytes\",\"history\",\"orig_pkts\",\"orig_ip_bytes\",\"resp_pkts\",\"resp_ip_bytes\",\"tunnel_parents\",\"label\",\"detailed-label\"]\n",
        "df1 = pd.read_csv('https://mcfp.felk.cvut.cz/publicDatasets/IoTDatasets/CTU-IoT-Malware-Capture-1-1/bro/conn.log.labeled',skipfooter=1, engine=\"python\",names=fields, sep=\"\\x09|\\x20\\x20\\x20\", skiprows=8, nrows = nRowsRead)\n",
        "df1.dataframeName = 'CTU-IoT-Malware-Capture-1-1'\n",
        "nRow, nCol = df1.shape\n",
        "print(f'There are {nRow} rows and {nCol} columns')\n",
        "\n",
        "df1.dtypes"
      ],
      "metadata": {
        "execution": {
          "iopub.status.busy": "2023-06-06T13:43:37.612547Z",
          "iopub.execute_input": "2023-06-06T13:43:37.613038Z",
          "iopub.status.idle": "2023-06-06T13:45:21.480511Z",
          "shell.execute_reply.started": "2023-06-06T13:43:37.612998Z",
          "shell.execute_reply": "2023-06-06T13:45:21.479359Z"
        },
        "trusted": true,
        "colab": {
          "base_uri": "https://localhost:8080/"
        },
        "id": "tivg3UzuU0kI",
        "outputId": "6bf8bf17-d141-4f9c-c305-10cc45dd8381"
      },
      "execution_count": null,
      "outputs": [
        {
          "output_type": "stream",
          "name": "stdout",
          "text": [
            "There are 1008748 rows and 23 columns\n"
          ]
        },
        {
          "output_type": "execute_result",
          "data": {
            "text/plain": [
              "ts                float64\n",
              "uid                object\n",
              "orig_h             object\n",
              "orig_p              int64\n",
              "resp_h             object\n",
              "resp_p              int64\n",
              "proto              object\n",
              "service            object\n",
              "duration           object\n",
              "orig_bytes         object\n",
              "resp_bytes         object\n",
              "conn_state         object\n",
              "local_orig         object\n",
              "local_resp         object\n",
              "missed_bytes        int64\n",
              "history            object\n",
              "orig_pkts           int64\n",
              "orig_ip_bytes       int64\n",
              "resp_pkts           int64\n",
              "resp_ip_bytes       int64\n",
              "tunnel_parents     object\n",
              "label              object\n",
              "detailed-label     object\n",
              "dtype: object"
            ]
          },
          "metadata": {},
          "execution_count": 8
        }
      ]
    },
    {
      "cell_type": "code",
      "source": [
        "def to_ipaddress(params):\n",
        "    ips:int = []\n",
        "    for i in params:\n",
        "        ips.append(int(ipaddress.IPv4Address(i)))\n",
        "        \n",
        "    return ips"
      ],
      "metadata": {
        "execution": {
          "iopub.status.busy": "2023-06-06T13:39:22.710881Z",
          "iopub.execute_input": "2023-06-06T13:39:22.711371Z",
          "iopub.status.idle": "2023-06-06T13:39:22.716146Z",
          "shell.execute_reply.started": "2023-06-06T13:39:22.711343Z",
          "shell.execute_reply": "2023-06-06T13:39:22.715303Z"
        },
        "trusted": true,
        "id": "JRDbTm4WU0kJ"
      },
      "execution_count": null,
      "outputs": []
    },
    {
      "cell_type": "code",
      "source": [
        "def to_float(params):\n",
        "    ips = []\n",
        "    for i in params:\n",
        "        value = None\n",
        "        try: \n",
        "            value = float(i)\n",
        "        except:\n",
        "            value = None\n",
        "        ips.append(value)\n",
        "    return ips"
      ],
      "metadata": {
        "execution": {
          "iopub.status.busy": "2023-06-06T13:39:22.718308Z",
          "iopub.execute_input": "2023-06-06T13:39:22.718836Z",
          "iopub.status.idle": "2023-06-06T13:39:22.730524Z",
          "shell.execute_reply.started": "2023-06-06T13:39:22.718775Z",
          "shell.execute_reply": "2023-06-06T13:39:22.729350Z"
        },
        "trusted": true,
        "id": "EpP3Jp0GU0kJ"
      },
      "execution_count": null,
      "outputs": []
    },
    {
      "cell_type": "code",
      "source": [
        "def to_int(params):\n",
        "    ips = []\n",
        "    for i in params:\n",
        "        value = None\n",
        "        try: \n",
        "            value = int(i)\n",
        "        except:\n",
        "            value = None\n",
        "        ips.append(value)\n",
        "    return ips\n"
      ],
      "metadata": {
        "execution": {
          "iopub.status.busy": "2023-06-06T13:39:22.731895Z",
          "iopub.execute_input": "2023-06-06T13:39:22.732719Z",
          "iopub.status.idle": "2023-06-06T13:39:22.748532Z",
          "shell.execute_reply.started": "2023-06-06T13:39:22.732685Z",
          "shell.execute_reply": "2023-06-06T13:39:22.747072Z"
        },
        "trusted": true,
        "id": "V7rgyf7gU0kJ"
      },
      "execution_count": null,
      "outputs": []
    },
    {
      "cell_type": "code",
      "source": [
        "df1['ts'] = pd.to_datetime(df1['ts'], unit='s')\n",
        "df1['orig_h'] = to_ipaddress(df1['orig_h'])\n",
        "\n",
        "df1['resp_h'] = to_ipaddress(df1['resp_h'])\n",
        "df1['orig_bytes'] = to_int(df1['orig_bytes'])\n",
        "df1['resp_bytes'] = to_int(df1['resp_bytes'])\n",
        "\n",
        "df1['duration'] = to_float(df1['duration'])\n",
        "\n",
        "df1['local_orig'] = df1['local_orig'].astype(bool)\n",
        "df1['local_resp'] = df1['local_resp'].astype(bool)\n",
        "\n",
        "df1['tunnel_parents'] = df1['tunnel_parents'].astype(str)\n",
        "\n",
        "\n",
        "# One hot for porto\n",
        "\n",
        "# Get one hot encoding of columns porto\n",
        "one_hot = pd.get_dummies(df1['proto'])\n",
        "# Drop column B as it is now encoded\n",
        "df1 = df1.drop('proto',axis = 1)\n",
        "# Join the encoded df\n",
        "df1 = df1.join(one_hot)\n"
      ],
      "metadata": {
        "execution": {
          "iopub.status.busy": "2023-06-06T13:45:45.816142Z",
          "iopub.execute_input": "2023-06-06T13:45:45.816572Z",
          "iopub.status.idle": "2023-06-06T13:47:04.316780Z",
          "shell.execute_reply.started": "2023-06-06T13:45:45.816537Z",
          "shell.execute_reply": "2023-06-06T13:47:04.315673Z"
        },
        "trusted": true,
        "id": "O8_7OmuaU0kJ"
      },
      "execution_count": null,
      "outputs": []
    },
    {
      "cell_type": "code",
      "source": [
        "df1.dtypes\n"
      ],
      "metadata": {
        "execution": {
          "iopub.status.busy": "2023-06-06T14:09:40.014184Z",
          "iopub.execute_input": "2023-06-06T14:09:40.016583Z",
          "iopub.status.idle": "2023-06-06T14:09:40.040867Z",
          "shell.execute_reply.started": "2023-06-06T14:09:40.016500Z",
          "shell.execute_reply": "2023-06-06T14:09:40.039785Z"
        },
        "trusted": true,
        "colab": {
          "base_uri": "https://localhost:8080/"
        },
        "id": "lBTJ5V6YU0kK",
        "outputId": "cb47f83e-2199-475b-eda0-e158d584b335"
      },
      "execution_count": null,
      "outputs": [
        {
          "output_type": "execute_result",
          "data": {
            "text/plain": [
              "ts                datetime64[ns]\n",
              "uid                       object\n",
              "orig_h                     int64\n",
              "orig_p                     int64\n",
              "resp_h                     int64\n",
              "resp_p                     int64\n",
              "service                   object\n",
              "duration                 float64\n",
              "orig_bytes               float64\n",
              "resp_bytes               float64\n",
              "conn_state                object\n",
              "local_orig                  bool\n",
              "local_resp                  bool\n",
              "missed_bytes               int64\n",
              "history                   object\n",
              "orig_pkts                  int64\n",
              "orig_ip_bytes              int64\n",
              "resp_pkts                  int64\n",
              "resp_ip_bytes              int64\n",
              "tunnel_parents            object\n",
              "label                     object\n",
              "detailed-label            object\n",
              "icmp                       uint8\n",
              "tcp                        uint8\n",
              "udp                        uint8\n",
              "dtype: object"
            ]
          },
          "metadata": {},
          "execution_count": 13
        }
      ]
    },
    {
      "cell_type": "code",
      "source": [
        "#make_bytes_plot(df1)\n",
        "#plt.show()\n"
      ],
      "metadata": {
        "id": "CFNd3inbYThz"
      },
      "execution_count": null,
      "outputs": []
    },
    {
      "cell_type": "code",
      "source": [
        "\n",
        "pd.set_option('display.max_columns', 500) \n",
        "pd.set_option('display.max_rows', 500) \n",
        "df1.head(5)"
      ],
      "metadata": {
        "execution": {
          "iopub.status.busy": "2023-06-06T14:09:52.192810Z",
          "iopub.execute_input": "2023-06-06T14:09:52.193197Z",
          "iopub.status.idle": "2023-06-06T14:09:52.237162Z",
          "shell.execute_reply.started": "2023-06-06T14:09:52.193169Z",
          "shell.execute_reply": "2023-06-06T14:09:52.236264Z"
        },
        "trusted": true,
        "colab": {
          "base_uri": "https://localhost:8080/",
          "height": 357
        },
        "id": "wBnPo87YU0kK",
        "outputId": "2ed0fda2-fd26-4b1a-bf3a-97a88b70d88d"
      },
      "execution_count": null,
      "outputs": [
        {
          "output_type": "execute_result",
          "data": {
            "text/plain": [
              "                             ts                 uid      orig_h  orig_p  \\\n",
              "0 2018-05-09 15:30:31.015811072  CUmrqr4svHuSXJy5z7  3232261223   51524   \n",
              "1 2018-05-09 15:30:31.025054976  CH98aB3s1kJeq6SFOc  3232261223   56305   \n",
              "2 2018-05-09 15:30:31.045044992   C3GBTkINvXNjVGtN5  3232261223   41101   \n",
              "3 2018-05-09 15:30:32.016239872   CDe43c1PtgynajGI6  3232261223   60905   \n",
              "4 2018-05-09 15:30:32.024985088  CJaDcG3MZzvf1YVYI4  3232261223   44301   \n",
              "\n",
              "       resp_h  resp_p service  duration  orig_bytes  resp_bytes conn_state  \\\n",
              "0  1098901923      23       -  2.999051         0.0         0.0         S0   \n",
              "1  1066799275      23       -       NaN         NaN         NaN         S0   \n",
              "2  1864898353      23       -       NaN         NaN         NaN         S0   \n",
              "3  2209273747      23       -  2.998796         0.0         0.0         S0   \n",
              "4  1529491263      23       -       NaN         NaN         NaN         S0   \n",
              "\n",
              "   local_orig  local_resp  missed_bytes history  orig_pkts  orig_ip_bytes  \\\n",
              "0        True        True             0       S          3            180   \n",
              "1        True        True             0       S          1             60   \n",
              "2        True        True             0       S          1             60   \n",
              "3        True        True             0       S          3            180   \n",
              "4        True        True             0       S          1             60   \n",
              "\n",
              "   resp_pkts  resp_ip_bytes tunnel_parents      label  \\\n",
              "0          0              0        (empty)  Malicious   \n",
              "1          0              0        (empty)  Malicious   \n",
              "2          0              0        (empty)  Malicious   \n",
              "3          0              0        (empty)  Malicious   \n",
              "4          0              0        (empty)  Malicious   \n",
              "\n",
              "              detailed-label  icmp  tcp  udp  \n",
              "0  PartOfAHorizontalPortScan     0    1    0  \n",
              "1  PartOfAHorizontalPortScan     0    1    0  \n",
              "2  PartOfAHorizontalPortScan     0    1    0  \n",
              "3  PartOfAHorizontalPortScan     0    1    0  \n",
              "4  PartOfAHorizontalPortScan     0    1    0  "
            ],
            "text/html": [
              "\n",
              "  <div id=\"df-ea2db448-c9ae-4e12-83c5-f39ec6fbd076\">\n",
              "    <div class=\"colab-df-container\">\n",
              "      <div>\n",
              "<style scoped>\n",
              "    .dataframe tbody tr th:only-of-type {\n",
              "        vertical-align: middle;\n",
              "    }\n",
              "\n",
              "    .dataframe tbody tr th {\n",
              "        vertical-align: top;\n",
              "    }\n",
              "\n",
              "    .dataframe thead th {\n",
              "        text-align: right;\n",
              "    }\n",
              "</style>\n",
              "<table border=\"1\" class=\"dataframe\">\n",
              "  <thead>\n",
              "    <tr style=\"text-align: right;\">\n",
              "      <th></th>\n",
              "      <th>ts</th>\n",
              "      <th>uid</th>\n",
              "      <th>orig_h</th>\n",
              "      <th>orig_p</th>\n",
              "      <th>resp_h</th>\n",
              "      <th>resp_p</th>\n",
              "      <th>service</th>\n",
              "      <th>duration</th>\n",
              "      <th>orig_bytes</th>\n",
              "      <th>resp_bytes</th>\n",
              "      <th>conn_state</th>\n",
              "      <th>local_orig</th>\n",
              "      <th>local_resp</th>\n",
              "      <th>missed_bytes</th>\n",
              "      <th>history</th>\n",
              "      <th>orig_pkts</th>\n",
              "      <th>orig_ip_bytes</th>\n",
              "      <th>resp_pkts</th>\n",
              "      <th>resp_ip_bytes</th>\n",
              "      <th>tunnel_parents</th>\n",
              "      <th>label</th>\n",
              "      <th>detailed-label</th>\n",
              "      <th>icmp</th>\n",
              "      <th>tcp</th>\n",
              "      <th>udp</th>\n",
              "    </tr>\n",
              "  </thead>\n",
              "  <tbody>\n",
              "    <tr>\n",
              "      <th>0</th>\n",
              "      <td>2018-05-09 15:30:31.015811072</td>\n",
              "      <td>CUmrqr4svHuSXJy5z7</td>\n",
              "      <td>3232261223</td>\n",
              "      <td>51524</td>\n",
              "      <td>1098901923</td>\n",
              "      <td>23</td>\n",
              "      <td>-</td>\n",
              "      <td>2.999051</td>\n",
              "      <td>0.0</td>\n",
              "      <td>0.0</td>\n",
              "      <td>S0</td>\n",
              "      <td>True</td>\n",
              "      <td>True</td>\n",
              "      <td>0</td>\n",
              "      <td>S</td>\n",
              "      <td>3</td>\n",
              "      <td>180</td>\n",
              "      <td>0</td>\n",
              "      <td>0</td>\n",
              "      <td>(empty)</td>\n",
              "      <td>Malicious</td>\n",
              "      <td>PartOfAHorizontalPortScan</td>\n",
              "      <td>0</td>\n",
              "      <td>1</td>\n",
              "      <td>0</td>\n",
              "    </tr>\n",
              "    <tr>\n",
              "      <th>1</th>\n",
              "      <td>2018-05-09 15:30:31.025054976</td>\n",
              "      <td>CH98aB3s1kJeq6SFOc</td>\n",
              "      <td>3232261223</td>\n",
              "      <td>56305</td>\n",
              "      <td>1066799275</td>\n",
              "      <td>23</td>\n",
              "      <td>-</td>\n",
              "      <td>NaN</td>\n",
              "      <td>NaN</td>\n",
              "      <td>NaN</td>\n",
              "      <td>S0</td>\n",
              "      <td>True</td>\n",
              "      <td>True</td>\n",
              "      <td>0</td>\n",
              "      <td>S</td>\n",
              "      <td>1</td>\n",
              "      <td>60</td>\n",
              "      <td>0</td>\n",
              "      <td>0</td>\n",
              "      <td>(empty)</td>\n",
              "      <td>Malicious</td>\n",
              "      <td>PartOfAHorizontalPortScan</td>\n",
              "      <td>0</td>\n",
              "      <td>1</td>\n",
              "      <td>0</td>\n",
              "    </tr>\n",
              "    <tr>\n",
              "      <th>2</th>\n",
              "      <td>2018-05-09 15:30:31.045044992</td>\n",
              "      <td>C3GBTkINvXNjVGtN5</td>\n",
              "      <td>3232261223</td>\n",
              "      <td>41101</td>\n",
              "      <td>1864898353</td>\n",
              "      <td>23</td>\n",
              "      <td>-</td>\n",
              "      <td>NaN</td>\n",
              "      <td>NaN</td>\n",
              "      <td>NaN</td>\n",
              "      <td>S0</td>\n",
              "      <td>True</td>\n",
              "      <td>True</td>\n",
              "      <td>0</td>\n",
              "      <td>S</td>\n",
              "      <td>1</td>\n",
              "      <td>60</td>\n",
              "      <td>0</td>\n",
              "      <td>0</td>\n",
              "      <td>(empty)</td>\n",
              "      <td>Malicious</td>\n",
              "      <td>PartOfAHorizontalPortScan</td>\n",
              "      <td>0</td>\n",
              "      <td>1</td>\n",
              "      <td>0</td>\n",
              "    </tr>\n",
              "    <tr>\n",
              "      <th>3</th>\n",
              "      <td>2018-05-09 15:30:32.016239872</td>\n",
              "      <td>CDe43c1PtgynajGI6</td>\n",
              "      <td>3232261223</td>\n",
              "      <td>60905</td>\n",
              "      <td>2209273747</td>\n",
              "      <td>23</td>\n",
              "      <td>-</td>\n",
              "      <td>2.998796</td>\n",
              "      <td>0.0</td>\n",
              "      <td>0.0</td>\n",
              "      <td>S0</td>\n",
              "      <td>True</td>\n",
              "      <td>True</td>\n",
              "      <td>0</td>\n",
              "      <td>S</td>\n",
              "      <td>3</td>\n",
              "      <td>180</td>\n",
              "      <td>0</td>\n",
              "      <td>0</td>\n",
              "      <td>(empty)</td>\n",
              "      <td>Malicious</td>\n",
              "      <td>PartOfAHorizontalPortScan</td>\n",
              "      <td>0</td>\n",
              "      <td>1</td>\n",
              "      <td>0</td>\n",
              "    </tr>\n",
              "    <tr>\n",
              "      <th>4</th>\n",
              "      <td>2018-05-09 15:30:32.024985088</td>\n",
              "      <td>CJaDcG3MZzvf1YVYI4</td>\n",
              "      <td>3232261223</td>\n",
              "      <td>44301</td>\n",
              "      <td>1529491263</td>\n",
              "      <td>23</td>\n",
              "      <td>-</td>\n",
              "      <td>NaN</td>\n",
              "      <td>NaN</td>\n",
              "      <td>NaN</td>\n",
              "      <td>S0</td>\n",
              "      <td>True</td>\n",
              "      <td>True</td>\n",
              "      <td>0</td>\n",
              "      <td>S</td>\n",
              "      <td>1</td>\n",
              "      <td>60</td>\n",
              "      <td>0</td>\n",
              "      <td>0</td>\n",
              "      <td>(empty)</td>\n",
              "      <td>Malicious</td>\n",
              "      <td>PartOfAHorizontalPortScan</td>\n",
              "      <td>0</td>\n",
              "      <td>1</td>\n",
              "      <td>0</td>\n",
              "    </tr>\n",
              "  </tbody>\n",
              "</table>\n",
              "</div>\n",
              "      <button class=\"colab-df-convert\" onclick=\"convertToInteractive('df-ea2db448-c9ae-4e12-83c5-f39ec6fbd076')\"\n",
              "              title=\"Convert this dataframe to an interactive table.\"\n",
              "              style=\"display:none;\">\n",
              "        \n",
              "  <svg xmlns=\"http://www.w3.org/2000/svg\" height=\"24px\"viewBox=\"0 0 24 24\"\n",
              "       width=\"24px\">\n",
              "    <path d=\"M0 0h24v24H0V0z\" fill=\"none\"/>\n",
              "    <path d=\"M18.56 5.44l.94 2.06.94-2.06 2.06-.94-2.06-.94-.94-2.06-.94 2.06-2.06.94zm-11 1L8.5 8.5l.94-2.06 2.06-.94-2.06-.94L8.5 2.5l-.94 2.06-2.06.94zm10 10l.94 2.06.94-2.06 2.06-.94-2.06-.94-.94-2.06-.94 2.06-2.06.94z\"/><path d=\"M17.41 7.96l-1.37-1.37c-.4-.4-.92-.59-1.43-.59-.52 0-1.04.2-1.43.59L10.3 9.45l-7.72 7.72c-.78.78-.78 2.05 0 2.83L4 21.41c.39.39.9.59 1.41.59.51 0 1.02-.2 1.41-.59l7.78-7.78 2.81-2.81c.8-.78.8-2.07 0-2.86zM5.41 20L4 18.59l7.72-7.72 1.47 1.35L5.41 20z\"/>\n",
              "  </svg>\n",
              "      </button>\n",
              "      \n",
              "  <style>\n",
              "    .colab-df-container {\n",
              "      display:flex;\n",
              "      flex-wrap:wrap;\n",
              "      gap: 12px;\n",
              "    }\n",
              "\n",
              "    .colab-df-convert {\n",
              "      background-color: #E8F0FE;\n",
              "      border: none;\n",
              "      border-radius: 50%;\n",
              "      cursor: pointer;\n",
              "      display: none;\n",
              "      fill: #1967D2;\n",
              "      height: 32px;\n",
              "      padding: 0 0 0 0;\n",
              "      width: 32px;\n",
              "    }\n",
              "\n",
              "    .colab-df-convert:hover {\n",
              "      background-color: #E2EBFA;\n",
              "      box-shadow: 0px 1px 2px rgba(60, 64, 67, 0.3), 0px 1px 3px 1px rgba(60, 64, 67, 0.15);\n",
              "      fill: #174EA6;\n",
              "    }\n",
              "\n",
              "    [theme=dark] .colab-df-convert {\n",
              "      background-color: #3B4455;\n",
              "      fill: #D2E3FC;\n",
              "    }\n",
              "\n",
              "    [theme=dark] .colab-df-convert:hover {\n",
              "      background-color: #434B5C;\n",
              "      box-shadow: 0px 1px 3px 1px rgba(0, 0, 0, 0.15);\n",
              "      filter: drop-shadow(0px 1px 2px rgba(0, 0, 0, 0.3));\n",
              "      fill: #FFFFFF;\n",
              "    }\n",
              "  </style>\n",
              "\n",
              "      <script>\n",
              "        const buttonEl =\n",
              "          document.querySelector('#df-ea2db448-c9ae-4e12-83c5-f39ec6fbd076 button.colab-df-convert');\n",
              "        buttonEl.style.display =\n",
              "          google.colab.kernel.accessAllowed ? 'block' : 'none';\n",
              "\n",
              "        async function convertToInteractive(key) {\n",
              "          const element = document.querySelector('#df-ea2db448-c9ae-4e12-83c5-f39ec6fbd076');\n",
              "          const dataTable =\n",
              "            await google.colab.kernel.invokeFunction('convertToInteractive',\n",
              "                                                     [key], {});\n",
              "          if (!dataTable) return;\n",
              "\n",
              "          const docLinkHtml = 'Like what you see? Visit the ' +\n",
              "            '<a target=\"_blank\" href=https://colab.research.google.com/notebooks/data_table.ipynb>data table notebook</a>'\n",
              "            + ' to learn more about interactive tables.';\n",
              "          element.innerHTML = '';\n",
              "          dataTable['output_type'] = 'display_data';\n",
              "          await google.colab.output.renderOutput(dataTable, element);\n",
              "          const docLink = document.createElement('div');\n",
              "          docLink.innerHTML = docLinkHtml;\n",
              "          element.appendChild(docLink);\n",
              "        }\n",
              "      </script>\n",
              "    </div>\n",
              "  </div>\n",
              "  "
            ]
          },
          "metadata": {},
          "execution_count": 15
        }
      ]
    },
    {
      "cell_type": "code",
      "source": [
        "# check for missing values\n",
        "df1.isna().sum()"
      ],
      "metadata": {
        "execution": {
          "iopub.status.busy": "2023-06-06T14:10:06.858030Z",
          "iopub.execute_input": "2023-06-06T14:10:06.858438Z",
          "iopub.status.idle": "2023-06-06T14:10:16.448152Z",
          "shell.execute_reply.started": "2023-06-06T14:10:06.858405Z",
          "shell.execute_reply": "2023-06-06T14:10:16.446598Z"
        },
        "trusted": true,
        "colab": {
          "base_uri": "https://localhost:8080/"
        },
        "id": "K4JkOPB8U0kK",
        "outputId": "cf0cd6f8-6073-432f-c086-aa7efd4639a4"
      },
      "execution_count": null,
      "outputs": [
        {
          "output_type": "execute_result",
          "data": {
            "text/plain": [
              "ts                     0\n",
              "uid                    0\n",
              "orig_h                 0\n",
              "orig_p                 0\n",
              "resp_h                 0\n",
              "resp_p                 0\n",
              "service                0\n",
              "duration          796300\n",
              "orig_bytes        796300\n",
              "resp_bytes        796300\n",
              "conn_state             0\n",
              "local_orig             0\n",
              "local_resp             0\n",
              "missed_bytes           0\n",
              "history                0\n",
              "orig_pkts              0\n",
              "orig_ip_bytes          0\n",
              "resp_pkts              0\n",
              "resp_ip_bytes          0\n",
              "tunnel_parents         0\n",
              "label                  0\n",
              "detailed-label         0\n",
              "icmp                   0\n",
              "tcp                    0\n",
              "udp                    0\n",
              "dtype: int64"
            ]
          },
          "metadata": {},
          "execution_count": 16
        }
      ]
    },
    {
      "cell_type": "code",
      "source": [
        "df1[\"label\"].value_counts()"
      ],
      "metadata": {
        "execution": {
          "iopub.status.busy": "2023-06-06T14:10:29.107545Z",
          "iopub.execute_input": "2023-06-06T14:10:29.108708Z",
          "iopub.status.idle": "2023-06-06T14:10:29.569562Z",
          "shell.execute_reply.started": "2023-06-06T14:10:29.108664Z",
          "shell.execute_reply": "2023-06-06T14:10:29.568455Z"
        },
        "trusted": true,
        "colab": {
          "base_uri": "https://localhost:8080/"
        },
        "id": "beWhD_ILU0kK",
        "outputId": "9e9f2d37-1b7f-437d-983d-09e7af714a1f"
      },
      "execution_count": null,
      "outputs": [
        {
          "output_type": "execute_result",
          "data": {
            "text/plain": [
              "Malicious    539473\n",
              "Benign       469275\n",
              "Name: label, dtype: int64"
            ]
          },
          "metadata": {},
          "execution_count": 17
        }
      ]
    },
    {
      "cell_type": "code",
      "source": [
        "x = df1.loc[:, ['resp_p', 'orig_p']].values\n",
        "\n",
        "# 'resp_h','resp_p', 'icmp', 'tcp', 'udp', 'local_orig', 'local_resp' ,'orig_pkts', 'orig_ip_bytes', 'resp_pkts' ,'resp_ip_bytes'"
      ],
      "metadata": {
        "id": "umAdfy-2elwV"
      },
      "execution_count": null,
      "outputs": []
    },
    {
      "cell_type": "code",
      "source": [
        "print(x.shape)"
      ],
      "metadata": {
        "colab": {
          "base_uri": "https://localhost:8080/"
        },
        "id": "quBDVrXMU0kK",
        "outputId": "bad9414a-5768-44f6-92b7-9379adbe855e"
      },
      "execution_count": null,
      "outputs": [
        {
          "output_type": "stream",
          "name": "stdout",
          "text": [
            "(1008748, 2)\n"
          ]
        }
      ]
    },
    {
      "cell_type": "code",
      "source": [
        "# https://www.section.io/engineering-education/dbscan-clustering-in-python/"
      ],
      "metadata": {
        "id": "2gNVKAchiIGJ"
      },
      "execution_count": null,
      "outputs": []
    },
    {
      "cell_type": "code",
      "source": [
        "from sklearn.neighbors import NearestNeighbors # importing the library\n",
        "neighb = NearestNeighbors(n_neighbors=2) # creating an object of the NearestNeighbors class\n",
        "nbrs=neighb.fit(x) # fitting the data to the object\n",
        "distances,indices=nbrs.kneighbors(x) # finding the nearest neighbours"
      ],
      "metadata": {
        "id": "TgjngpLYe5fL"
      },
      "execution_count": null,
      "outputs": []
    },
    {
      "cell_type": "code",
      "source": [
        "print(len(distances))"
      ],
      "metadata": {
        "colab": {
          "base_uri": "https://localhost:8080/"
        },
        "id": "8MFfRM0_ikCO",
        "outputId": "fb321db3-81dc-40c0-9f44-9625c27d4d06"
      },
      "execution_count": null,
      "outputs": [
        {
          "output_type": "stream",
          "name": "stdout",
          "text": [
            "1008748\n"
          ]
        }
      ]
    },
    {
      "cell_type": "code",
      "source": [
        "distances = np.sort(distances, axis = 0) # sorting the distances\n",
        "distances = distances[:, 1] # taking the second column of the sorted distances\n",
        "plt.rcParams['figure.figsize'] = (5,3) # setting the figure size\n",
        "plt.plot(distances) # plotting the distances\n",
        "plt.show() # showing the plot"
      ],
      "metadata": {
        "colab": {
          "base_uri": "https://localhost:8080/",
          "height": 309
        },
        "id": "CWSNFcI4hyx9",
        "outputId": "0aa3b2c3-5b36-4efa-bc3a-1d7240ec2669"
      },
      "execution_count": null,
      "outputs": [
        {
          "output_type": "display_data",
          "data": {
            "text/plain": [
              "<Figure size 500x300 with 1 Axes>"
            ],
            "image/png": "[encoded data removed]"
          },
          "metadata": {}
        }
      ]
    },
    {
      "cell_type": "code",
      "source": [
        "from sklearn.cluster import DBSCAN\n",
        "# cluster the data into five clusters\n",
        "dbscan = DBSCAN(eps = 8, min_samples = 4).fit(x) # fitting the model\n",
        "labels = dbscan.labels_ # getting the labels"
      ],
      "metadata": {
        "id": "O-Ve94GOsOV5"
      },
      "execution_count": null,
      "outputs": []
    },
    {
      "cell_type": "code",
      "source": [
        "# Plot the clusters\n",
        "plt.scatter(x[:, 0], x[:,1], c = labels, cmap= \"plasma\") # plotting the clusters\n",
        "plt.xlabel(\"Income\") # X-axis label\n",
        "plt.ylabel(\"Spending Score\") # Y-axis label\n",
        "plt.show() # showing the plot"
      ],
      "metadata": {
        "colab": {
          "base_uri": "https://localhost:8080/",
          "height": 311
        },
        "id": "-sdoDkohsQWG",
        "outputId": "91cbcfcf-fa3b-4298-a47f-727a26489852"
      },
      "execution_count": null,
      "outputs": [
        {
          "output_type": "display_data",
          "data": {
            "text/plain": [
              "<Figure size 500x300 with 1 Axes>"
            ],
            "image/png": "[encoded data removed]"
          },
          "metadata": {}
        }
      ]
    }
  ]
}