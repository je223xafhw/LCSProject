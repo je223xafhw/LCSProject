{
 "cells": [
  {
   "cell_type": "code",
   "execution_count": 194,
   "id": "d2ae2b5a-10f0-43f0-bd01-7f32b7441792",
   "metadata": {
    "editable": true,
    "slideshow": {
     "slide_type": ""
    },
    "tags": []
   },
   "outputs": [],
   "source": [
    "import matplotlib.pylab as plt\n",
    "import pandas as pd\n",
    "import seaborn as sns\n",
    "from sklearn.neighbors import NearestNeighbors\n",
    "from sklearn.cluster import DBSCAN\n",
    "from sklearn.svm import SVC\n",
    "import numpy as np\n",
    "import hdbscan\n",
    "import os.path\n",
    "from seaborn import scatterplot\n",
    "\n",
    "from matplotlib import pyplot as plt\n",
    "from mpl_toolkits.mplot3d import Axes3D\n",
    "import socket\n",
    "import struct\n",
    "\n"
   ]
  },
  {
   "attachments": {},
   "cell_type": "markdown",
   "id": "76acfd4f",
   "metadata": {},
   "source": [
    "## Preparation"
   ]
  },
  {
   "cell_type": "code",
   "execution_count": 195,
   "id": "d262e1e8-fa46-41ab-b092-59dc06301b47",
   "metadata": {
    "editable": true,
    "slideshow": {
     "slide_type": ""
    },
    "tags": []
   },
   "outputs": [],
   "source": [
    "import pandas as pd\n",
    "import os.path\n",
    "FILEID = 1\n",
    "FILEIDS = [1, 3, 36, 39, 49, 52]\n",
    "LOGFILE = f\"https://mcfp.felk.cvut.cz/publicDatasets/IoTDatasets/CTU-IoT-Malware-Capture-{FILEID}-1/bro/conn.log.labeled\"\n",
    "NUMERIC_COLUMNS = ['ts', 'orig_p', 'resp_p', \"orig_bytes\", \"resp_bytes\", \"missed_bytes\", \"orig_pkts\", 'orig_ip_bytes', 'resp_pkts', 'resp_ip_bytes', 'duration'] # integer columns"
   ]
  },
  {
   "cell_type": "code",
   "execution_count": 196,
   "id": "53054e71-af5c-4cc1-ab72-51714f7e3940",
   "metadata": {
    "editable": true,
    "slideshow": {
     "slide_type": ""
    },
    "tags": []
   },
   "outputs": [],
   "source": [
    "def convert_to_csv(FILEID):\n",
    "    if not os.path.isfile(f'csv/capture{FILEID}_1.csv'):\n",
    "        LOGFILE = f\"https://mcfp.felk.cvut.cz/publicDatasets/IoTDatasets/CTU-IoT-Malware-Capture-{FILEID}-1/bro/conn.log.labeled\"\n",
    "        fieldsIN = ['ts', 'uid', 'orig_h', 'orig_p', 'resp_h', 'resp_p', 'proto', 'service', 'duration', 'orig_bytes', 'resp_bytes', 'conn_state',\n",
    "                'local_orig', 'local_resp', 'missed_bytes', 'history', 'orig_pkts', 'orig_ip_bytes', 'resp_pkts', 'resp_ip_bytes', 'tunnel_parents', 'label', 'detailed_label']\n",
    "        df = pd.read_csv(LOGFILE, sep=\"\\x09|\\x20\\x20\\x20\", skiprows=10, skipfooter=2,\n",
    "                        names=fieldsIN, header=None, engine='python')\n",
    "                                \n",
    "        df = df.drop(['tunnel_parents'], axis=1)\n",
    "        df.to_csv(f'csv/capture{FILEID}_1.csv')\n",
    "        print(df.shape)\n",
    "        for column in NUMERIC_COLUMNS:\n",
    "            df[column] = pd.to_numeric(df[column], errors='coerce')\n",
    "        return df\n"
   ]
  },
  {
   "cell_type": "code",
   "execution_count": 217,
   "id": "107596cb",
   "metadata": {},
   "outputs": [],
   "source": [
    "def convert_ipv4(addr):\n",
    "    return struct.unpack(\"!I\", socket.inet_aton(addr))[0]\n",
    "\n",
    "def convert_label(l):\n",
    "    return 1 if l == 'Malicious' else 0\n",
    "\n",
    "def to_int(x):\n",
    "    try:\n",
    "        return int(x)\n",
    "    except:\n",
    "        return np.nan"
   ]
  },
  {
   "cell_type": "code",
   "execution_count": 218,
   "id": "17ea6403",
   "metadata": {},
   "outputs": [],
   "source": [
    "def norm_df(df, rows=None):\n",
    "    df = df.dropna()\n",
    "    df = df.replace('-', np.nan)\n",
    "    df['orig_h'] = df['orig_h'].apply(convert_ipv4)\n",
    "    df['resp_h'] = df['resp_h'].apply(convert_ipv4)\n",
    "    df = pd.get_dummies(df, columns=['proto'])\n",
    "    df = df.drop(['Unnamed: 0','service', 'duration', 'missed_bytes', 'history', 'uid', 'conn_state', 'local_orig', 'local_resp', 'orig_ip_bytes', 'resp_ip_bytes', 'orig_pkts', 'resp_pkts', 'detailed_label'], axis=1)\n",
    "    df['label'] = df['label'].apply(convert_label)\n",
    "    df['resp_bytes'] = df['resp_bytes'].apply(to_int)\n",
    "    df['orig_bytes'] = df['orig_bytes'].apply(to_int)\n",
    "    df['ts'] = df['ts'].astype(np.int32)\n",
    "    for i in ['proto_icmp', 'proto_udp', 'proto_tcp']:\n",
    "        df[i] = df[i].astype(int)\n",
    "    df.reset_index()\n",
    "    if (rows): return df[:rows]\n",
    "    else: return df"
   ]
  },
  {
   "cell_type": "code",
   "execution_count": 219,
   "id": "a20abb71-c558-4abb-b788-5c8b1bbf6271",
   "metadata": {
    "editable": true,
    "slideshow": {
     "slide_type": ""
    },
    "tags": []
   },
   "outputs": [
    {
     "name": "stdout",
     "output_type": "stream",
     "text": [
      "(100000, 11)\n",
      "\n",
      "ts              int32\n",
      "orig_h          int64\n",
      "orig_p          int64\n",
      "resp_h          int64\n",
      "resp_p          int64\n",
      "orig_bytes    float64\n",
      "resp_bytes    float64\n",
      "label           int64\n",
      "proto_icmp      int64\n",
      "proto_tcp       int64\n",
      "proto_udp       int64\n",
      "dtype: object\n",
      "\n",
      "data categories = [Malicious: 55044, Benign: 44956]\n"
     ]
    },
    {
     "data": {
      "text/html": [
       "<div>\n",
       "<style scoped>\n",
       "    .dataframe tbody tr th:only-of-type {\n",
       "        vertical-align: middle;\n",
       "    }\n",
       "\n",
       "    .dataframe tbody tr th {\n",
       "        vertical-align: top;\n",
       "    }\n",
       "\n",
       "    .dataframe thead th {\n",
       "        text-align: right;\n",
       "    }\n",
       "</style>\n",
       "<table border=\"1\" class=\"dataframe\">\n",
       "  <thead>\n",
       "    <tr style=\"text-align: right;\">\n",
       "      <th></th>\n",
       "      <th>ts</th>\n",
       "      <th>orig_h</th>\n",
       "      <th>orig_p</th>\n",
       "      <th>resp_h</th>\n",
       "      <th>resp_p</th>\n",
       "      <th>orig_bytes</th>\n",
       "      <th>resp_bytes</th>\n",
       "      <th>label</th>\n",
       "      <th>proto_icmp</th>\n",
       "      <th>proto_tcp</th>\n",
       "      <th>proto_udp</th>\n",
       "    </tr>\n",
       "  </thead>\n",
       "  <tbody>\n",
       "    <tr>\n",
       "      <th>0</th>\n",
       "      <td>1525879831</td>\n",
       "      <td>3232261223</td>\n",
       "      <td>41101</td>\n",
       "      <td>1864898353</td>\n",
       "      <td>23</td>\n",
       "      <td>NaN</td>\n",
       "      <td>NaN</td>\n",
       "      <td>1</td>\n",
       "      <td>0</td>\n",
       "      <td>1</td>\n",
       "      <td>0</td>\n",
       "    </tr>\n",
       "    <tr>\n",
       "      <th>1</th>\n",
       "      <td>1525879832</td>\n",
       "      <td>3232261223</td>\n",
       "      <td>60905</td>\n",
       "      <td>2209273747</td>\n",
       "      <td>23</td>\n",
       "      <td>0.0</td>\n",
       "      <td>0.0</td>\n",
       "      <td>1</td>\n",
       "      <td>0</td>\n",
       "      <td>1</td>\n",
       "      <td>0</td>\n",
       "    </tr>\n",
       "    <tr>\n",
       "      <th>2</th>\n",
       "      <td>1525879832</td>\n",
       "      <td>3232261223</td>\n",
       "      <td>44301</td>\n",
       "      <td>1529491263</td>\n",
       "      <td>23</td>\n",
       "      <td>NaN</td>\n",
       "      <td>NaN</td>\n",
       "      <td>1</td>\n",
       "      <td>0</td>\n",
       "      <td>1</td>\n",
       "      <td>0</td>\n",
       "    </tr>\n",
       "    <tr>\n",
       "      <th>3</th>\n",
       "      <td>1525879832</td>\n",
       "      <td>3232261223</td>\n",
       "      <td>50244</td>\n",
       "      <td>2027056328</td>\n",
       "      <td>23</td>\n",
       "      <td>NaN</td>\n",
       "      <td>NaN</td>\n",
       "      <td>1</td>\n",
       "      <td>0</td>\n",
       "      <td>1</td>\n",
       "      <td>0</td>\n",
       "    </tr>\n",
       "    <tr>\n",
       "      <th>4</th>\n",
       "      <td>1525879833</td>\n",
       "      <td>3232261223</td>\n",
       "      <td>34243</td>\n",
       "      <td>2466726347</td>\n",
       "      <td>49560</td>\n",
       "      <td>0.0</td>\n",
       "      <td>0.0</td>\n",
       "      <td>0</td>\n",
       "      <td>0</td>\n",
       "      <td>1</td>\n",
       "      <td>0</td>\n",
       "    </tr>\n",
       "  </tbody>\n",
       "</table>\n",
       "</div>"
      ],
      "text/plain": [
       "           ts      orig_h  orig_p      resp_h  resp_p  orig_bytes  resp_bytes  \\\n",
       "0  1525879831  3232261223   41101  1864898353      23         NaN         NaN   \n",
       "1  1525879832  3232261223   60905  2209273747      23         0.0         0.0   \n",
       "2  1525879832  3232261223   44301  1529491263      23         NaN         NaN   \n",
       "3  1525879832  3232261223   50244  2027056328      23         NaN         NaN   \n",
       "4  1525879833  3232261223   34243  2466726347   49560         0.0         0.0   \n",
       "\n",
       "   label  proto_icmp  proto_tcp  proto_udp  \n",
       "0      1           0          1          0  \n",
       "1      1           0          1          0  \n",
       "2      1           0          1          0  \n",
       "3      1           0          1          0  \n",
       "4      0           0          1          0  "
      ]
     },
     "execution_count": 219,
     "metadata": {},
     "output_type": "execute_result"
    }
   ],
   "source": [
    "SOURCEDF = norm_df(pd.read_csv('csv/capture1_1.csv'), 100000)\n",
    "print(f\"{SOURCEDF.shape}\\n\")\n",
    "print(f'{SOURCEDF.dtypes}\\n')\n",
    "print(f\"data categories = [Malicious: {SOURCEDF[SOURCEDF['label'] == 1].shape[0]}, Benign: {SOURCEDF[SOURCEDF['label'] == 0].shape[0]}]\")\n",
    "SOURCEDF.head()\n"
   ]
  },
  {
   "attachments": {},
   "cell_type": "markdown",
   "id": "e82e1428",
   "metadata": {},
   "source": [
    "## Clustering"
   ]
  },
  {
   "cell_type": "code",
   "execution_count": null,
   "id": "50b451df-dced-4f4b-bfce-43f4c8ccb6f6",
   "metadata": {
    "editable": true,
    "slideshow": {
     "slide_type": ""
    },
    "tags": []
   },
   "outputs": [],
   "source": [
    "def hdbscanner(df):\n",
    "    hdbscan_obj = hdbscan.HDBSCAN(algorithm='best', alpha=1.0, approx_min_span_tree=True,\n",
    "    gen_min_span_tree=False, leaf_size=40, metric='euclidean', min_cluster_size=5, min_samples=None, p=None).fit(df)\n",
    "    labels = hdbscan_obj.labels_\n",
    "    df['category'] = pd.Series(labels)\n",
    "    return df\n"
   ]
  },
  {
   "cell_type": "code",
   "execution_count": null,
   "id": "6ad9de5c-8098-4888-afd6-4e2f2ac02af0",
   "metadata": {
    "editable": true,
    "slideshow": {
     "slide_type": ""
    },
    "tags": []
   },
   "outputs": [],
   "source": [
    "# takes 3m52.2s\n",
    "df1_ = SOURCEDF.loc[:, ['orig_bytes','resp_bytes','orig_p', 'resp_p']]\n",
    "df1 = hdbscanner(df1_)"
   ]
  },
  {
   "cell_type": "code",
   "execution_count": null,
   "id": "bc1e3a06-99d3-4da4-97a0-89509abf18a0",
   "metadata": {
    "editable": true,
    "slideshow": {
     "slide_type": ""
    },
    "tags": []
   },
   "outputs": [
    {
     "data": {
      "text/html": [
       "<div>\n",
       "<style scoped>\n",
       "    .dataframe tbody tr th:only-of-type {\n",
       "        vertical-align: middle;\n",
       "    }\n",
       "\n",
       "    .dataframe tbody tr th {\n",
       "        vertical-align: top;\n",
       "    }\n",
       "\n",
       "    .dataframe thead th {\n",
       "        text-align: right;\n",
       "    }\n",
       "</style>\n",
       "<table border=\"1\" class=\"dataframe\">\n",
       "  <thead>\n",
       "    <tr style=\"text-align: right;\">\n",
       "      <th></th>\n",
       "      <th>orig_bytes</th>\n",
       "      <th>resp_bytes</th>\n",
       "      <th>orig_p</th>\n",
       "      <th>resp_p</th>\n",
       "      <th>category</th>\n",
       "    </tr>\n",
       "  </thead>\n",
       "  <tbody>\n",
       "    <tr>\n",
       "      <th>0</th>\n",
       "      <td>NaN</td>\n",
       "      <td>NaN</td>\n",
       "      <td>41101</td>\n",
       "      <td>23</td>\n",
       "      <td>-1</td>\n",
       "    </tr>\n",
       "    <tr>\n",
       "      <th>1</th>\n",
       "      <td>0</td>\n",
       "      <td>0</td>\n",
       "      <td>60905</td>\n",
       "      <td>23</td>\n",
       "      <td>-1</td>\n",
       "    </tr>\n",
       "    <tr>\n",
       "      <th>2</th>\n",
       "      <td>NaN</td>\n",
       "      <td>NaN</td>\n",
       "      <td>44301</td>\n",
       "      <td>23</td>\n",
       "      <td>-1</td>\n",
       "    </tr>\n",
       "    <tr>\n",
       "      <th>3</th>\n",
       "      <td>NaN</td>\n",
       "      <td>NaN</td>\n",
       "      <td>50244</td>\n",
       "      <td>23</td>\n",
       "      <td>-1</td>\n",
       "    </tr>\n",
       "    <tr>\n",
       "      <th>4</th>\n",
       "      <td>0</td>\n",
       "      <td>0</td>\n",
       "      <td>34243</td>\n",
       "      <td>49560</td>\n",
       "      <td>-1</td>\n",
       "    </tr>\n",
       "    <tr>\n",
       "      <th>5</th>\n",
       "      <td>NaN</td>\n",
       "      <td>NaN</td>\n",
       "      <td>34840</td>\n",
       "      <td>21288</td>\n",
       "      <td>-1</td>\n",
       "    </tr>\n",
       "    <tr>\n",
       "      <th>6</th>\n",
       "      <td>NaN</td>\n",
       "      <td>NaN</td>\n",
       "      <td>58525</td>\n",
       "      <td>23</td>\n",
       "      <td>-1</td>\n",
       "    </tr>\n",
       "    <tr>\n",
       "      <th>7</th>\n",
       "      <td>NaN</td>\n",
       "      <td>NaN</td>\n",
       "      <td>43849</td>\n",
       "      <td>8080</td>\n",
       "      <td>-1</td>\n",
       "    </tr>\n",
       "    <tr>\n",
       "      <th>8</th>\n",
       "      <td>NaN</td>\n",
       "      <td>NaN</td>\n",
       "      <td>40973</td>\n",
       "      <td>8080</td>\n",
       "      <td>-1</td>\n",
       "    </tr>\n",
       "    <tr>\n",
       "      <th>9</th>\n",
       "      <td>0</td>\n",
       "      <td>0</td>\n",
       "      <td>52259</td>\n",
       "      <td>23</td>\n",
       "      <td>594</td>\n",
       "    </tr>\n",
       "  </tbody>\n",
       "</table>\n",
       "</div>"
      ],
      "text/plain": [
       "  orig_bytes resp_bytes  orig_p  resp_p  category\n",
       "0        NaN        NaN   41101      23        -1\n",
       "1          0          0   60905      23        -1\n",
       "2        NaN        NaN   44301      23        -1\n",
       "3        NaN        NaN   50244      23        -1\n",
       "4          0          0   34243   49560        -1\n",
       "5        NaN        NaN   34840   21288        -1\n",
       "6        NaN        NaN   58525      23        -1\n",
       "7        NaN        NaN   43849    8080        -1\n",
       "8        NaN        NaN   40973    8080        -1\n",
       "9          0          0   52259      23       594"
      ]
     },
     "execution_count": 180,
     "metadata": {},
     "output_type": "execute_result"
    }
   ],
   "source": [
    "df1.head(10)\n"
   ]
  },
  {
   "cell_type": "code",
   "execution_count": null,
   "id": "b3c27aea-c401-4b65-ab23-b8c58fe31725",
   "metadata": {
    "editable": true,
    "slideshow": {
     "slide_type": ""
    },
    "tags": []
   },
   "outputs": [
    {
     "data": {
      "image/png": "[encoded data removed]",
      "text/plain": [
       "<Figure size 600x600 with 1 Axes>"
      ]
     },
     "metadata": {},
     "output_type": "display_data"
    }
   ],
   "source": [
    "fig = plt.figure(figsize=(6,6))\n",
    "\n",
    "ax = plt.axes(projection='3d')\n",
    "#sc = ax.scatter(data=df1, x='orig_p', y='resp_p', z='category', s=40, c='category', marker='o', cmap='plasma', alpha=1)\n",
    "\n",
    "ax.scatter3D(df1['orig_p'], df1['resp_p'], df1['category'], c=df1['category'])\n",
    "\n",
    "plt.show()"
   ]
  },
  {
   "attachments": {},
   "cell_type": "markdown",
   "id": "47c8334d",
   "metadata": {},
   "source": [
    "## Model Training using linear Kernel\n",
    "from [here](https://datagy.io/python-support-vector-machines/)"
   ]
  },
  {
   "cell_type": "code",
   "execution_count": null,
   "id": "5801cf23-908d-4b59-be48-dfb7e8adb8c3",
   "metadata": {
    "editable": true,
    "slideshow": {
     "slide_type": ""
    },
    "tags": []
   },
   "outputs": [],
   "source": [
    "from sklearn.svm import SVC\n",
    "from sklearn.model_selection import train_test_split\n",
    "from sklearn.metrics import accuracy_score\n"
   ]
  },
  {
   "cell_type": "code",
   "execution_count": null,
   "id": "dcca1567-8bf8-4963-aba5-b1391382f809",
   "metadata": {
    "editable": true,
    "slideshow": {
     "slide_type": ""
    },
    "tags": []
   },
   "outputs": [],
   "source": [
    "\n",
    "X = df1[['orig_p', 'resp_p']]\n",
    "y = df1['category']\n",
    "X_train, X_test, y_train, y_test = train_test_split(X, y, random_state=100)\n"
   ]
  },
  {
   "cell_type": "code",
   "execution_count": null,
   "id": "717c5660-1c2b-4939-a77f-da7c6449b2e4",
   "metadata": {
    "editable": true,
    "slideshow": {
     "slide_type": ""
    },
    "tags": []
   },
   "outputs": [],
   "source": [
    "def train_linear():\n",
    "    # Building and training our model\n",
    "    clf = SVC(kernel='linear', verbose=False)\n",
    "    clf.fit(X_train, y_train)\n",
    "    predictions = clf.predict(X_test)\n",
    "    print(f\"Acccuracy: {accuracy_score(y_test, predictions)}\")\n",
    "    # interrupted after 526 minutes\n",
    "    return clf"
   ]
  },
  {
   "cell_type": "code",
   "execution_count": null,
   "id": "0c6630c5-497a-4c2d-90eb-117e9ff6cc00",
   "metadata": {
    "editable": true,
    "slideshow": {
     "slide_type": ""
    },
    "tags": []
   },
   "outputs": [],
   "source": [
    "def visualise_linear(clf):\n",
    "# Visualizing the linear function for our SVM classifier\n",
    "    w = clf.coef_[0]\n",
    "    b = clf.intercept_[0]\n",
    "    x_visual = np.linspace(0,60000)\n",
    "    y_visual = -(w[0] / w[1]) * x_visual - b / w[1]\n",
    "\n",
    "    scatterplot(data = X_train, x='orig_p', y='resp_p', hue=y_train)\n",
    "    plt.plot(x_visual, y_visual)\n",
    "    plt.show()"
   ]
  },
  {
   "attachments": {},
   "cell_type": "markdown",
   "id": "808c8909",
   "metadata": {},
   "source": [
    "## Model Training using better Kernel\n",
    "**THIS DID NOT WORK AS EXPECTED AND SINCE SVM IS NOT NECESSARY ANYWAYS, IT WONT BE FIXED**"
   ]
  },
  {
   "cell_type": "code",
   "execution_count": null,
   "id": "c15e00f9",
   "metadata": {},
   "outputs": [],
   "source": [
    "from sklearn.metrics import accuracy_score\n",
    "from sklearn.preprocessing import OneHotEncoder\n",
    "from sklearn.compose import make_column_transformer\n",
    "from sklearn.model_selection import train_test_split\n",
    "from sklearn.compose import make_column_transformer"
   ]
  },
  {
   "cell_type": "code",
   "execution_count": null,
   "id": "5b36433d",
   "metadata": {},
   "outputs": [],
   "source": [
    "def encoder(df: pd.DataFrame):\n",
    "    X = df.drop(['label'], axis=1)\n",
    "    y = df['label'].to_frame()\n",
    "    X_train, X_test, y_train, y_test = train_test_split(X, y, random_state = 100)\n",
    "    column_transformer = make_column_transformer(\n",
    "    (OneHotEncoder(), ['orig_h', 'resp_h', 'proto']),\n",
    "    remainder='passthrough')\n",
    "    X_train = column_transformer.fit_transform(X_train)\n",
    "    X_train = pd.DataFrame(data=X_train, columns=column_transformer.get_feature_names_out())\n",
    "    print(X_train.head())\n",
    "\n",
    "# encoder(SOURCEDF)"
   ]
  },
  {
   "attachments": {},
   "cell_type": "markdown",
   "id": "e93673ed",
   "metadata": {},
   "source": [
    "## Training using ANN\n",
    "link: [here](https://www.analyticsvidhya.com/blog/2021/10/implementing-artificial-neural-networkclassification-in-python-from-scratch/)\n",
    "\n",
    "or [here](https://towardsdatascience.com/visualizing-artificial-neural-networks-anns-with-just-one-line-of-code-b4233607209e)\n",
    "\n",
    "this for encoding: [encoding](https://datagy.io/sklearn-one-hot-encode/)"
   ]
  },
  {
   "cell_type": "code",
   "execution_count": 220,
   "id": "e4365bc6",
   "metadata": {},
   "outputs": [],
   "source": [
    "import tensorflow as tf"
   ]
  },
  {
   "cell_type": "code",
   "execution_count": 221,
   "id": "9e0c1778",
   "metadata": {},
   "outputs": [],
   "source": [
    "X = SOURCEDF.drop(['label'], axis=1)\n",
    "y = SOURCEDF['label']\n",
    "X_train, X_test, y_train, y_test = train_test_split(X, y, random_state=100)\n"
   ]
  },
  {
   "cell_type": "code",
   "execution_count": 222,
   "id": "242e7db2",
   "metadata": {},
   "outputs": [
    {
     "data": {
      "text/plain": [
       "ts              int32\n",
       "orig_h          int64\n",
       "orig_p          int64\n",
       "resp_h          int64\n",
       "resp_p          int64\n",
       "orig_bytes    float64\n",
       "resp_bytes    float64\n",
       "proto_icmp      int64\n",
       "proto_tcp       int64\n",
       "proto_udp       int64\n",
       "dtype: object"
      ]
     },
     "execution_count": 222,
     "metadata": {},
     "output_type": "execute_result"
    }
   ],
   "source": [
    "X_train.dtypes"
   ]
  },
  {
   "cell_type": "code",
   "execution_count": 223,
   "id": "064727f5",
   "metadata": {},
   "outputs": [
    {
     "data": {
      "text/plain": [
       "17853    1\n",
       "55890    0\n",
       "89462    0\n",
       "1921     0\n",
       "27367    1\n",
       "        ..\n",
       "65615    1\n",
       "77655    1\n",
       "79683    1\n",
       "56088    0\n",
       "38408    1\n",
       "Name: label, Length: 75000, dtype: int64"
      ]
     },
     "execution_count": 223,
     "metadata": {},
     "output_type": "execute_result"
    }
   ],
   "source": [
    "y_train"
   ]
  },
  {
   "cell_type": "code",
   "execution_count": 224,
   "id": "b62498d7",
   "metadata": {},
   "outputs": [
    {
     "name": "stdout",
     "output_type": "stream",
     "text": [
      "Epoch 1/5\n",
      "2344/2344 [==============================] - 3s 1ms/step - loss: nan - accuracy: 0.4485\n",
      "Epoch 2/5\n",
      "2344/2344 [==============================] - 3s 1ms/step - loss: nan - accuracy: 0.4485\n",
      "Epoch 3/5\n",
      "2344/2344 [==============================] - 3s 1ms/step - loss: nan - accuracy: 0.4485\n",
      "Epoch 4/5\n",
      "2344/2344 [==============================] - 3s 1ms/step - loss: nan - accuracy: 0.4485\n",
      "Epoch 5/5\n",
      "2344/2344 [==============================] - 3s 1ms/step - loss: nan - accuracy: 0.4485\n"
     ]
    },
    {
     "data": {
      "text/plain": [
       "<keras.engine.sequential.Sequential at 0x7fb9c14fa970>"
      ]
     },
     "execution_count": 224,
     "metadata": {},
     "output_type": "execute_result"
    }
   ],
   "source": [
    "def ann(X_train, y_train):\n",
    "    ann = tf.keras.models.Sequential()\n",
    "    ann.add(tf.keras.layers.Dense(units=6,activation=\"relu\")) # 6,3\n",
    "    ann.add(tf.keras.layers.Dense(units=6,activation=\"relu\")) # 6,3\n",
    "    ann.add(tf.keras.layers.Dense(units=1,activation=\"sigmoid\"))\n",
    "    ann.compile(optimizer=\"adam\",loss=\"binary_crossentropy\",metrics=['accuracy'])\n",
    "    ann.fit(X_train,y_train,batch_size=32,epochs = 5, verbose=1)\n",
    "    return ann\n",
    "\n",
    "ann(X_train, y_train)"
   ]
  }
 ],
 "metadata": {
  "kernelspec": {
   "display_name": "Python 3 (ipykernel)",
   "language": "python",
   "name": "python3"
  },
  "language_info": {
   "codemirror_mode": {
    "name": "ipython",
    "version": 3
   },
   "file_extension": ".py",
   "mimetype": "text/x-python",
   "name": "python",
   "nbconvert_exporter": "python",
   "pygments_lexer": "ipython3",
   "version": "3.9.2"
  }
 },
 "nbformat": 4,
 "nbformat_minor": 5
}
