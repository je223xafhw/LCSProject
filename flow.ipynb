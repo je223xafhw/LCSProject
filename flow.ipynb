{
 "cells": [
  {
   "cell_type": "code",
   "execution_count": 115,
   "id": "d2ae2b5a-10f0-43f0-bd01-7f32b7441792",
   "metadata": {
    "editable": true,
    "slideshow": {
     "slide_type": ""
    },
    "tags": []
   },
   "outputs": [],
   "source": [
    "import matplotlib.pylab as plt\n",
    "import pandas as pd\n",
    "import seaborn as sns\n",
    "from sklearn.neighbors import NearestNeighbors\n",
    "from sklearn.cluster import DBSCAN\n",
    "from sklearn.svm import SVC\n",
    "import numpy as np\n",
    "import hdbscan\n",
    "import os.path\n",
    "from seaborn import scatterplot\n",
    "\n",
    "from matplotlib import pyplot as plt\n",
    "from mpl_toolkits.mplot3d import Axes3D\n",
    "import socket\n",
    "import struct\n",
    "\n"
   ]
  },
  {
   "attachments": {},
   "cell_type": "markdown",
   "id": "76acfd4f",
   "metadata": {},
   "source": [
    "## Preparation"
   ]
  },
  {
   "cell_type": "code",
   "execution_count": 116,
   "id": "d262e1e8-fa46-41ab-b092-59dc06301b47",
   "metadata": {
    "editable": true,
    "slideshow": {
     "slide_type": ""
    },
    "tags": []
   },
   "outputs": [],
   "source": [
    "import pandas as pd\n",
    "import os.path\n",
    "FILEID = 1\n",
    "FILEIDS = [1, 3, 36, 39, 49, 52]\n",
    "LOGFILE = f\"https://mcfp.felk.cvut.cz/publicDatasets/IoTDatasets/CTU-IoT-Malware-Capture-{FILEID}-1/bro/conn.log.labeled\"\n",
    "NUMERIC_COLUMNS = ['ts', 'orig_p', 'resp_p', \"orig_bytes\", \"resp_bytes\", \"missed_bytes\", \"orig_pkts\", 'orig_ip_bytes', 'resp_pkts', 'resp_ip_bytes', 'duration'] # integer columns"
   ]
  },
  {
   "cell_type": "code",
   "execution_count": 117,
   "id": "53054e71-af5c-4cc1-ab72-51714f7e3940",
   "metadata": {
    "editable": true,
    "slideshow": {
     "slide_type": ""
    },
    "tags": []
   },
   "outputs": [],
   "source": [
    "def convert_to_csv(FILEID):\n",
    "    if not os.path.isfile(f'csv/capture{FILEID}_1.csv'):\n",
    "        LOGFILE = f\"https://mcfp.felk.cvut.cz/publicDatasets/IoTDatasets/CTU-IoT-Malware-Capture-{FILEID}-1/bro/conn.log.labeled\"\n",
    "        fieldsIN = ['ts', 'uid', 'orig_h', 'orig_p', 'resp_h', 'resp_p', 'proto', 'service', 'duration', 'orig_bytes', 'resp_bytes', 'conn_state',\n",
    "                'local_orig', 'local_resp', 'missed_bytes', 'history', 'orig_pkts', 'orig_ip_bytes', 'resp_pkts', 'resp_ip_bytes', 'tunnel_parents', 'label', 'detailed_label']\n",
    "        df = pd.read_csv(LOGFILE, sep=\"\\x09|\\x20\\x20\\x20\", skiprows=10, skipfooter=2,\n",
    "                        names=fieldsIN, header=None, engine='python')\n",
    "                                \n",
    "        df = df.drop(['tunnel_parents'], axis=1)\n",
    "        df.to_csv(f'csv/capture{FILEID}_1.csv')\n",
    "        print(df.shape)\n",
    "        for column in NUMERIC_COLUMNS:\n",
    "            df[column] = pd.to_numeric(df[column], errors='coerce')\n",
    "        return df\n"
   ]
  },
  {
   "cell_type": "code",
   "execution_count": 149,
   "id": "107596cb",
   "metadata": {},
   "outputs": [],
   "source": [
    "def convert_ipv4(addr):\n",
    "    return struct.unpack(\"!I\", socket.inet_aton(addr))[0]\n",
    "\n",
    "def con_proto(proto):\n",
    "    protos = ['icmp', 'tcp', 'udp']\n",
    "    return protos.index(proto)"
   ]
  },
  {
   "cell_type": "code",
   "execution_count": 150,
   "id": "17ea6403",
   "metadata": {},
   "outputs": [],
   "source": [
    "def norm_df(df, rows=None):\n",
    "    df = df.replace('-', np.nan)\n",
    "    df['orig_h'] = df['orig_h'].apply(convert_ipv4)\n",
    "    df['resp_h'] = df['resp_h'].apply(convert_ipv4)\n",
    "    # df = pd.get_dummies(df, columns=['proto'], dtype=int)\n",
    "    df['proto'] = df['proto'].apply(con_proto)\n",
    "    # print(dummies.head())\n",
    "    df = df.drop(['Unnamed: 0','service', 'duration', 'missed_bytes', 'history', 'uid', 'conn_state', 'local_orig', 'local_resp', 'orig_ip_bytes', 'resp_ip_bytes', 'orig_pkts', 'resp_pkts', 'detailed_label', 'ts'], axis=1)\n",
    "    df['label'] = (df['label'] == \"Malicious\").astype(int)\n",
    "    # df['resp_bytes'] = df['resp_bytes'].apply(to_int)\n",
    "    df = df.dropna()\n",
    "    df['resp_bytes'] = df['resp_bytes'].astype(int)\n",
    "    df['orig_bytes'] = df['orig_bytes'].astype(int)\n",
    "    df = df.reset_index(drop=True)\n",
    "    if (rows): return df[:rows]\n",
    "    else: return df"
   ]
  },
  {
   "cell_type": "code",
   "execution_count": 151,
   "id": "a20abb71-c558-4abb-b788-5c8b1bbf6271",
   "metadata": {
    "editable": true,
    "slideshow": {
     "slide_type": ""
    },
    "tags": []
   },
   "outputs": [
    {
     "name": "stdout",
     "output_type": "stream",
     "text": [
      "(210787, 8)\n",
      "\n",
      "orig_h        int64\n",
      "orig_p        int64\n",
      "resp_h        int64\n",
      "resp_p        int64\n",
      "proto         int64\n",
      "orig_bytes    int64\n",
      "resp_bytes    int64\n",
      "label         int64\n",
      "dtype: object\n",
      "\n",
      "data categories = [Malicious: 187771, Benign: 23016]\n"
     ]
    },
    {
     "data": {
      "text/html": [
       "<div>\n",
       "<style scoped>\n",
       "    .dataframe tbody tr th:only-of-type {\n",
       "        vertical-align: middle;\n",
       "    }\n",
       "\n",
       "    .dataframe tbody tr th {\n",
       "        vertical-align: top;\n",
       "    }\n",
       "\n",
       "    .dataframe thead th {\n",
       "        text-align: right;\n",
       "    }\n",
       "</style>\n",
       "<table border=\"1\" class=\"dataframe\">\n",
       "  <thead>\n",
       "    <tr style=\"text-align: right;\">\n",
       "      <th></th>\n",
       "      <th>orig_h</th>\n",
       "      <th>orig_p</th>\n",
       "      <th>resp_h</th>\n",
       "      <th>resp_p</th>\n",
       "      <th>proto</th>\n",
       "      <th>orig_bytes</th>\n",
       "      <th>resp_bytes</th>\n",
       "      <th>label</th>\n",
       "    </tr>\n",
       "  </thead>\n",
       "  <tbody>\n",
       "    <tr>\n",
       "      <th>0</th>\n",
       "      <td>3232261223</td>\n",
       "      <td>60905</td>\n",
       "      <td>2209273747</td>\n",
       "      <td>23</td>\n",
       "      <td>1</td>\n",
       "      <td>0</td>\n",
       "      <td>0</td>\n",
       "      <td>1</td>\n",
       "    </tr>\n",
       "    <tr>\n",
       "      <th>1</th>\n",
       "      <td>3232261223</td>\n",
       "      <td>34243</td>\n",
       "      <td>2466726347</td>\n",
       "      <td>49560</td>\n",
       "      <td>1</td>\n",
       "      <td>0</td>\n",
       "      <td>0</td>\n",
       "      <td>0</td>\n",
       "    </tr>\n",
       "    <tr>\n",
       "      <th>2</th>\n",
       "      <td>3232261223</td>\n",
       "      <td>52259</td>\n",
       "      <td>3250416306</td>\n",
       "      <td>23</td>\n",
       "      <td>1</td>\n",
       "      <td>0</td>\n",
       "      <td>0</td>\n",
       "      <td>1</td>\n",
       "    </tr>\n",
       "    <tr>\n",
       "      <th>3</th>\n",
       "      <td>3232261223</td>\n",
       "      <td>42207</td>\n",
       "      <td>178903906</td>\n",
       "      <td>8080</td>\n",
       "      <td>1</td>\n",
       "      <td>0</td>\n",
       "      <td>0</td>\n",
       "      <td>1</td>\n",
       "    </tr>\n",
       "    <tr>\n",
       "      <th>4</th>\n",
       "      <td>3232261223</td>\n",
       "      <td>40459</td>\n",
       "      <td>3564025020</td>\n",
       "      <td>23</td>\n",
       "      <td>1</td>\n",
       "      <td>0</td>\n",
       "      <td>0</td>\n",
       "      <td>1</td>\n",
       "    </tr>\n",
       "  </tbody>\n",
       "</table>\n",
       "</div>"
      ],
      "text/plain": [
       "       orig_h  orig_p      resp_h  resp_p  proto  orig_bytes  resp_bytes  \\\n",
       "0  3232261223   60905  2209273747      23      1           0           0   \n",
       "1  3232261223   34243  2466726347   49560      1           0           0   \n",
       "2  3232261223   52259  3250416306      23      1           0           0   \n",
       "3  3232261223   42207   178903906    8080      1           0           0   \n",
       "4  3232261223   40459  3564025020      23      1           0           0   \n",
       "\n",
       "   label  \n",
       "0      1  \n",
       "1      0  \n",
       "2      1  \n",
       "3      1  \n",
       "4      1  "
      ]
     },
     "execution_count": 151,
     "metadata": {},
     "output_type": "execute_result"
    }
   ],
   "source": [
    "SOURCEDF = norm_df(pd.read_csv('csv/capture1_1.csv'), 500000)\n",
    "print(f\"{SOURCEDF.shape}\\n\")\n",
    "print(f'{SOURCEDF.dtypes}\\n')\n",
    "print(f\"data categories = [Malicious: {SOURCEDF[SOURCEDF['label'] == 1].shape[0]}, Benign: {SOURCEDF[SOURCEDF['label'] == 0].shape[0]}]\")\n",
    "SOURCEDF.head()\n"
   ]
  },
  {
   "attachments": {},
   "cell_type": "markdown",
   "id": "d94fda23",
   "metadata": {},
   "source": [
    "## Visualise Data"
   ]
  },
  {
   "cell_type": "code",
   "execution_count": 121,
   "id": "8ea26131",
   "metadata": {},
   "outputs": [],
   "source": [
    "def viz(df):\n",
    "    for label in df.columns:\n",
    "        plt.hist(df[df[\"label\"] == 1][label], color='blue', label='Malicious', alpha=0.7, density=1)\n",
    "        plt.hist(df[df[\"label\"] == 0][label], color='red', label='Benign', alpha=0.7, density=1)\n",
    "        plt.title(label)\n",
    "        plt.ylabel('?')\n",
    "        plt.xlabel(label)\n",
    "        plt.legend()\n",
    "        plt.show()\n",
    "\n",
    "# viz(SOURCEDF)"
   ]
  },
  {
   "attachments": {},
   "cell_type": "markdown",
   "id": "e93673ed",
   "metadata": {},
   "source": [
    "## Training using ANN\n",
    "link: [here](https://www.analyticsvidhya.com/blog/2021/10/implementing-artificial-neural-networkclassification-in-python-from-scratch/)\n",
    "\n",
    "or [here](https://towardsdatascience.com/visualizing-artificial-neural-networks-anns-with-just-one-line-of-code-b4233607209e)\n",
    "\n",
    "this for encoding: [encoding](https://datagy.io/sklearn-one-hot-encode/)"
   ]
  },
  {
   "cell_type": "code",
   "execution_count": 122,
   "id": "e4365bc6",
   "metadata": {},
   "outputs": [],
   "source": [
    "import tensorflow as tf\n",
    "from sklearn.preprocessing import StandardScaler\n",
    "# used to sample the data in a way, that the dataset is equally distributed between categories\n",
    "from imblearn.over_sampling import RandomOverSampler\n"
   ]
  },
  {
   "cell_type": "code",
   "execution_count": 192,
   "id": "c3f73b4f",
   "metadata": {},
   "outputs": [],
   "source": [
    "def split(df):\n",
    "    train, valid, test = np.split(df.sample(frac=1), [int(0.6*len(df)), int(0.8*len(df))])\n",
    "    return train, valid, test"
   ]
  },
  {
   "cell_type": "code",
   "execution_count": 193,
   "id": "254d2f13",
   "metadata": {},
   "outputs": [],
   "source": [
    "def scale(df: pd.DataFrame, oversample = False):\n",
    "    X = df.drop(['label'], axis=1)\n",
    "    y = df['label']\n",
    "\n",
    "    scaler = StandardScaler()\n",
    "    X = scaler.fit_transform(X)\n",
    "\n",
    "    if oversample:\n",
    "        ros = RandomOverSampler()\n",
    "        X, y = ros.fit_resample(X, y)\n",
    "\n",
    "    data = np.hstack((X, np.reshape(y, (-1, 1))))\n",
    "    return data, X, y"
   ]
  },
  {
   "cell_type": "code",
   "execution_count": 194,
   "id": "21eb06f5",
   "metadata": {},
   "outputs": [],
   "source": [
    "train, valid, test = split(SOURCEDF)\n",
    "train, X_train, y_train = scale(train, True) \n",
    "valid, X_valid, y_valid = scale(valid, False) \n",
    "test, X_test, y_test = scale(test, False) "
   ]
  },
  {
   "attachments": {},
   "cell_type": "markdown",
   "id": "04aaa133",
   "metadata": {},
   "source": [
    "# kNN"
   ]
  },
  {
   "cell_type": "code",
   "execution_count": 195,
   "id": "9b4dd693",
   "metadata": {},
   "outputs": [],
   "source": [
    "from sklearn.neighbors import KNeighborsClassifier\n",
    "from sklearn.metrics import classification_report"
   ]
  },
  {
   "cell_type": "code",
   "execution_count": 196,
   "id": "ea35720c",
   "metadata": {},
   "outputs": [
    {
     "data": {
      "text/html": [
       "<style>#sk-container-id-3 {color: black;background-color: white;}#sk-container-id-3 pre{padding: 0;}#sk-container-id-3 div.sk-toggleable {background-color: white;}#sk-container-id-3 label.sk-toggleable__label {cursor: pointer;display: block;width: 100%;margin-bottom: 0;padding: 0.3em;box-sizing: border-box;text-align: center;}#sk-container-id-3 label.sk-toggleable__label-arrow:before {content: \"▸\";float: left;margin-right: 0.25em;color: #696969;}#sk-container-id-3 label.sk-toggleable__label-arrow:hover:before {color: black;}#sk-container-id-3 div.sk-estimator:hover label.sk-toggleable__label-arrow:before {color: black;}#sk-container-id-3 div.sk-toggleable__content {max-height: 0;max-width: 0;overflow: hidden;text-align: left;background-color: #f0f8ff;}#sk-container-id-3 div.sk-toggleable__content pre {margin: 0.2em;color: black;border-radius: 0.25em;background-color: #f0f8ff;}#sk-container-id-3 input.sk-toggleable__control:checked~div.sk-toggleable__content {max-height: 200px;max-width: 100%;overflow: auto;}#sk-container-id-3 input.sk-toggleable__control:checked~label.sk-toggleable__label-arrow:before {content: \"▾\";}#sk-container-id-3 div.sk-estimator input.sk-toggleable__control:checked~label.sk-toggleable__label {background-color: #d4ebff;}#sk-container-id-3 div.sk-label input.sk-toggleable__control:checked~label.sk-toggleable__label {background-color: #d4ebff;}#sk-container-id-3 input.sk-hidden--visually {border: 0;clip: rect(1px 1px 1px 1px);clip: rect(1px, 1px, 1px, 1px);height: 1px;margin: -1px;overflow: hidden;padding: 0;position: absolute;width: 1px;}#sk-container-id-3 div.sk-estimator {font-family: monospace;background-color: #f0f8ff;border: 1px dotted black;border-radius: 0.25em;box-sizing: border-box;margin-bottom: 0.5em;}#sk-container-id-3 div.sk-estimator:hover {background-color: #d4ebff;}#sk-container-id-3 div.sk-parallel-item::after {content: \"\";width: 100%;border-bottom: 1px solid gray;flex-grow: 1;}#sk-container-id-3 div.sk-label:hover label.sk-toggleable__label {background-color: #d4ebff;}#sk-container-id-3 div.sk-serial::before {content: \"\";position: absolute;border-left: 1px solid gray;box-sizing: border-box;top: 0;bottom: 0;left: 50%;z-index: 0;}#sk-container-id-3 div.sk-serial {display: flex;flex-direction: column;align-items: center;background-color: white;padding-right: 0.2em;padding-left: 0.2em;position: relative;}#sk-container-id-3 div.sk-item {position: relative;z-index: 1;}#sk-container-id-3 div.sk-parallel {display: flex;align-items: stretch;justify-content: center;background-color: white;position: relative;}#sk-container-id-3 div.sk-item::before, #sk-container-id-3 div.sk-parallel-item::before {content: \"\";position: absolute;border-left: 1px solid gray;box-sizing: border-box;top: 0;bottom: 0;left: 50%;z-index: -1;}#sk-container-id-3 div.sk-parallel-item {display: flex;flex-direction: column;z-index: 1;position: relative;background-color: white;}#sk-container-id-3 div.sk-parallel-item:first-child::after {align-self: flex-end;width: 50%;}#sk-container-id-3 div.sk-parallel-item:last-child::after {align-self: flex-start;width: 50%;}#sk-container-id-3 div.sk-parallel-item:only-child::after {width: 0;}#sk-container-id-3 div.sk-dashed-wrapped {border: 1px dashed gray;margin: 0 0.4em 0.5em 0.4em;box-sizing: border-box;padding-bottom: 0.4em;background-color: white;}#sk-container-id-3 div.sk-label label {font-family: monospace;font-weight: bold;display: inline-block;line-height: 1.2em;}#sk-container-id-3 div.sk-label-container {text-align: center;}#sk-container-id-3 div.sk-container {/* jupyter's `normalize.less` sets `[hidden] { display: none; }` but bootstrap.min.css set `[hidden] { display: none !important; }` so we also need the `!important` here to be able to override the default hidden behavior on the sphinx rendered scikit-learn.org. See: https://github.com/scikit-learn/scikit-learn/issues/21755 */display: inline-block !important;position: relative;}#sk-container-id-3 div.sk-text-repr-fallback {display: none;}</style><div id=\"sk-container-id-3\" class=\"sk-top-container\"><div class=\"sk-text-repr-fallback\"><pre>KNeighborsClassifier(n_neighbors=1)</pre><b>In a Jupyter environment, please rerun this cell to show the HTML representation or trust the notebook. <br />On GitHub, the HTML representation is unable to render, please try loading this page with nbviewer.org.</b></div><div class=\"sk-container\" hidden><div class=\"sk-item\"><div class=\"sk-estimator sk-toggleable\"><input class=\"sk-toggleable__control sk-hidden--visually\" id=\"sk-estimator-id-3\" type=\"checkbox\" checked><label for=\"sk-estimator-id-3\" class=\"sk-toggleable__label sk-toggleable__label-arrow\">KNeighborsClassifier</label><div class=\"sk-toggleable__content\"><pre>KNeighborsClassifier(n_neighbors=1)</pre></div></div></div></div></div>"
      ],
      "text/plain": [
       "KNeighborsClassifier(n_neighbors=1)"
      ]
     },
     "execution_count": 196,
     "metadata": {},
     "output_type": "execute_result"
    }
   ],
   "source": [
    "knn_model = KNeighborsClassifier(n_neighbors=1)\n",
    "knn_model.fit(X_train, y_train)"
   ]
  },
  {
   "cell_type": "code",
   "execution_count": 197,
   "id": "942bb8e3",
   "metadata": {},
   "outputs": [],
   "source": [
    "y_pred = knn_model.predict(X_test)"
   ]
  },
  {
   "cell_type": "code",
   "execution_count": 198,
   "id": "e42237a5",
   "metadata": {},
   "outputs": [
    {
     "name": "stdout",
     "output_type": "stream",
     "text": [
      "              precision    recall  f1-score   support\n",
      "\n",
      "           0       0.94      0.99      0.96      4412\n",
      "           1       1.00      0.99      1.00     37746\n",
      "\n",
      "    accuracy                           0.99     42158\n",
      "   macro avg       0.97      0.99      0.98     42158\n",
      "weighted avg       0.99      0.99      0.99     42158\n",
      "\n"
     ]
    }
   ],
   "source": [
    "print(classification_report(y_pred, y_test))"
   ]
  }
 ],
 "metadata": {
  "kernelspec": {
   "display_name": "Python 3 (ipykernel)",
   "language": "python",
   "name": "python3"
  },
  "language_info": {
   "codemirror_mode": {
    "name": "ipython",
    "version": 3
   },
   "file_extension": ".py",
   "mimetype": "text/x-python",
   "name": "python",
   "nbconvert_exporter": "python",
   "pygments_lexer": "ipython3",
   "version": "3.9.2"
  }
 },
 "nbformat": 4,
 "nbformat_minor": 5
}
