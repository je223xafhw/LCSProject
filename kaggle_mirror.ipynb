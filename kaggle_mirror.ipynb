{
 "cells": [
  {
   "cell_type": "code",
   "execution_count": 5,
   "metadata": {},
   "outputs": [
    {
     "name": "stderr",
     "output_type": "stream",
     "text": [
      "/var/folders/2b/xpp51kwd2v3ft4rr87tff01h0000gn/T/ipykernel_51426/3888531594.py:6: DtypeWarning: Columns (9,10,11) have mixed types. Specify dtype option on import or set low_memory=False.\n",
      "  return pd.read_csv(FILE)\n"
     ]
    },
    {
     "name": "stdout",
     "output_type": "stream",
     "text": [
      "Unnamed: 0          int64\n",
      "ts                float64\n",
      "uid                object\n",
      "id.orig_h          object\n",
      "id.orig_p           int64\n",
      "id.resp_h          object\n",
      "id.resp_p           int64\n",
      "proto              object\n",
      "service            object\n",
      "duration           object\n",
      "orig_bytes         object\n",
      "resp_bytes         object\n",
      "conn_state         object\n",
      "local_orig         object\n",
      "local_resp         object\n",
      "missed_bytes        int64\n",
      "history            object\n",
      "orig_pkts           int64\n",
      "orig_ip_bytes       int64\n",
      "resp_pkts           int64\n",
      "resp_ip_bytes       int64\n",
      "tunnel_parents     object\n",
      "label             float64\n",
      "detailed-label    float64\n",
      "dtype: object\n"
     ]
    }
   ],
   "source": [
    "import numpy as np  # linear algebra\n",
    "import pandas as pd  # data processing, CSV file I/O (e.g. pd.read_csv)\n",
    "FILE = \"/Users/jonny/Documents/capture52_1.csv\"\n",
    "\n",
    "def load_csv() -> pd.DataFrame:\n",
    "    return pd.read_csv(FILE)\n",
    "    \n",
    "df = load_csv()\n",
    "print(df.dtypes)\n",
    "df.head().to_csv('small_capture52_1.csv')"
   ]
  }
 ],
 "metadata": {
  "kernelspec": {
   "display_name": ".venv",
   "language": "python",
   "name": "python3"
  },
  "language_info": {
   "codemirror_mode": {
    "name": "ipython",
    "version": 3
   },
   "file_extension": ".py",
   "mimetype": "text/x-python",
   "name": "python",
   "nbconvert_exporter": "python",
   "pygments_lexer": "ipython3",
   "version": "3.11.3"
  },
  "orig_nbformat": 4
 },
 "nbformat": 4,
 "nbformat_minor": 2
}
